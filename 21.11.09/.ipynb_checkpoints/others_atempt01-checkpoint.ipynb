{
 "cells": [
  {
   "cell_type": "markdown",
   "metadata": {},
   "source": [
    "# Import Modules"
   ]
  },
  {
   "cell_type": "code",
   "execution_count": 1,
   "metadata": {
    "execution": {
     "iopub.execute_input": "2021-11-08T12:34:37.955806Z",
     "iopub.status.busy": "2021-11-08T12:34:37.955167Z",
     "iopub.status.idle": "2021-11-08T12:34:39.512286Z",
     "shell.execute_reply": "2021-11-08T12:34:39.511454Z",
     "shell.execute_reply.started": "2021-11-08T12:34:37.955686Z"
    }
   },
   "outputs": [],
   "source": [
    "import numpy as np\n",
    "import pandas as pd\n",
    "import matplotlib.pyplot as plt\n",
    "import seaborn as sns\n",
    "from scipy.stats import norm, probplot, skew\n",
    "from scipy.special import boxcox1p\n",
    "import warnings\n",
    "warnings.filterwarnings('ignore')\n",
    "\n",
    "from sklearn.preprocessing import LabelEncoder, OneHotEncoder\n",
    "from sklearn.model_selection import GridSearchCV, cross_val_score, KFold, RepeatedStratifiedKFold, RepeatedKFold, train_test_split\n",
    "from sklearn.neighbors import  KNeighborsClassifier as knn\n",
    "from sklearn.linear_model import LogisticRegression\n",
    "from sklearn.svm import SVC\n",
    "from sklearn.ensemble import RandomForestClassifier, VotingClassifier\n",
    "import xgboost\n",
    "from xgboost import XGBClassifier\n",
    "from sklearn.metrics import auc, accuracy_score\n",
    "\n",
    "from IPython.core.display import HTML"
   ]
  },
  {
   "cell_type": "markdown",
   "metadata": {},
   "source": [
    "# Read Data"
   ]
  },
  {
   "cell_type": "code",
   "execution_count": 2,
   "metadata": {
    "execution": {
     "iopub.execute_input": "2021-11-08T12:34:39.514327Z",
     "iopub.status.busy": "2021-11-08T12:34:39.514064Z",
     "iopub.status.idle": "2021-11-08T12:34:39.548531Z",
     "shell.execute_reply": "2021-11-08T12:34:39.547318Z",
     "shell.execute_reply.started": "2021-11-08T12:34:39.514296Z"
    }
   },
   "outputs": [],
   "source": [
    "train = pd.read_csv('train.csv')\n",
    "test = pd.read_csv('test.csv')"
   ]
  },
  {
   "cell_type": "markdown",
   "metadata": {},
   "source": [
    "# <h3 style=>Univariate Search</h3>"
   ]
  },
  {
   "cell_type": "code",
   "execution_count": 53,
   "metadata": {
    "execution": {
     "iopub.execute_input": "2021-11-08T12:34:39.551604Z",
     "iopub.status.busy": "2021-11-08T12:34:39.551327Z",
     "iopub.status.idle": "2021-11-08T12:34:39.556784Z",
     "shell.execute_reply": "2021-11-08T12:34:39.555691Z",
     "shell.execute_reply.started": "2021-11-08T12:34:39.551554Z"
    }
   },
   "outputs": [],
   "source": [
    "def multi_table(table_list):\n",
    "    return HTML(\n",
    "        f\"<table><tr> {''.join(['<td>' + table._repr_html_() + '</td>' for table in table_list])} </tr></table>\")"
   ]
  },
  {
   "cell_type": "code",
   "execution_count": 54,
   "metadata": {
    "execution": {
     "iopub.execute_input": "2021-11-08T12:34:39.559163Z",
     "iopub.status.busy": "2021-11-08T12:34:39.558825Z",
     "iopub.status.idle": "2021-11-08T12:34:39.584296Z",
     "shell.execute_reply": "2021-11-08T12:34:39.583487Z",
     "shell.execute_reply.started": "2021-11-08T12:34:39.559129Z"
    }
   },
   "outputs": [],
   "source": [
    "data = pd.concat((train, test)).drop(['Survived'], axis=1).reset_index(drop=True)"
   ]
  },
  {
   "cell_type": "code",
   "execution_count": 55,
   "metadata": {
    "execution": {
     "iopub.execute_input": "2021-11-08T12:34:39.587337Z",
     "iopub.status.busy": "2021-11-08T12:34:39.586213Z",
     "iopub.status.idle": "2021-11-08T12:34:39.613248Z",
     "shell.execute_reply": "2021-11-08T12:34:39.612397Z",
     "shell.execute_reply.started": "2021-11-08T12:34:39.587286Z"
    }
   },
   "outputs": [
    {
     "data": {
      "text/html": [
       "<div>\n",
       "<style scoped>\n",
       "    .dataframe tbody tr th:only-of-type {\n",
       "        vertical-align: middle;\n",
       "    }\n",
       "\n",
       "    .dataframe tbody tr th {\n",
       "        vertical-align: top;\n",
       "    }\n",
       "\n",
       "    .dataframe thead th {\n",
       "        text-align: right;\n",
       "    }\n",
       "</style>\n",
       "<table border=\"1\" class=\"dataframe\">\n",
       "  <thead>\n",
       "    <tr style=\"text-align: right;\">\n",
       "      <th></th>\n",
       "      <th>PassengerId</th>\n",
       "      <th>Survived</th>\n",
       "      <th>Pclass</th>\n",
       "      <th>Name</th>\n",
       "      <th>Sex</th>\n",
       "      <th>Age</th>\n",
       "      <th>SibSp</th>\n",
       "      <th>Parch</th>\n",
       "      <th>Ticket</th>\n",
       "      <th>Fare</th>\n",
       "      <th>Cabin</th>\n",
       "      <th>Embarked</th>\n",
       "    </tr>\n",
       "  </thead>\n",
       "  <tbody>\n",
       "    <tr>\n",
       "      <th>0</th>\n",
       "      <td>1</td>\n",
       "      <td>0</td>\n",
       "      <td>3</td>\n",
       "      <td>Braund, Mr. Owen Harris</td>\n",
       "      <td>male</td>\n",
       "      <td>22.0</td>\n",
       "      <td>1</td>\n",
       "      <td>0</td>\n",
       "      <td>A/5 21171</td>\n",
       "      <td>7.2500</td>\n",
       "      <td>NaN</td>\n",
       "      <td>S</td>\n",
       "    </tr>\n",
       "    <tr>\n",
       "      <th>1</th>\n",
       "      <td>2</td>\n",
       "      <td>1</td>\n",
       "      <td>1</td>\n",
       "      <td>Cumings, Mrs. John Bradley (Florence Briggs Th...</td>\n",
       "      <td>female</td>\n",
       "      <td>38.0</td>\n",
       "      <td>1</td>\n",
       "      <td>0</td>\n",
       "      <td>PC 17599</td>\n",
       "      <td>71.2833</td>\n",
       "      <td>C85</td>\n",
       "      <td>C</td>\n",
       "    </tr>\n",
       "    <tr>\n",
       "      <th>2</th>\n",
       "      <td>3</td>\n",
       "      <td>1</td>\n",
       "      <td>3</td>\n",
       "      <td>Heikkinen, Miss. Laina</td>\n",
       "      <td>female</td>\n",
       "      <td>26.0</td>\n",
       "      <td>0</td>\n",
       "      <td>0</td>\n",
       "      <td>STON/O2. 3101282</td>\n",
       "      <td>7.9250</td>\n",
       "      <td>NaN</td>\n",
       "      <td>S</td>\n",
       "    </tr>\n",
       "    <tr>\n",
       "      <th>3</th>\n",
       "      <td>4</td>\n",
       "      <td>1</td>\n",
       "      <td>1</td>\n",
       "      <td>Futrelle, Mrs. Jacques Heath (Lily May Peel)</td>\n",
       "      <td>female</td>\n",
       "      <td>35.0</td>\n",
       "      <td>1</td>\n",
       "      <td>0</td>\n",
       "      <td>113803</td>\n",
       "      <td>53.1000</td>\n",
       "      <td>C123</td>\n",
       "      <td>S</td>\n",
       "    </tr>\n",
       "    <tr>\n",
       "      <th>4</th>\n",
       "      <td>5</td>\n",
       "      <td>0</td>\n",
       "      <td>3</td>\n",
       "      <td>Allen, Mr. William Henry</td>\n",
       "      <td>male</td>\n",
       "      <td>35.0</td>\n",
       "      <td>0</td>\n",
       "      <td>0</td>\n",
       "      <td>373450</td>\n",
       "      <td>8.0500</td>\n",
       "      <td>NaN</td>\n",
       "      <td>S</td>\n",
       "    </tr>\n",
       "  </tbody>\n",
       "</table>\n",
       "</div>"
      ],
      "text/plain": [
       "   PassengerId  Survived  Pclass  \\\n",
       "0            1         0       3   \n",
       "1            2         1       1   \n",
       "2            3         1       3   \n",
       "3            4         1       1   \n",
       "4            5         0       3   \n",
       "\n",
       "                                                Name     Sex   Age  SibSp  \\\n",
       "0                            Braund, Mr. Owen Harris    male  22.0      1   \n",
       "1  Cumings, Mrs. John Bradley (Florence Briggs Th...  female  38.0      1   \n",
       "2                             Heikkinen, Miss. Laina  female  26.0      0   \n",
       "3       Futrelle, Mrs. Jacques Heath (Lily May Peel)  female  35.0      1   \n",
       "4                           Allen, Mr. William Henry    male  35.0      0   \n",
       "\n",
       "   Parch            Ticket     Fare Cabin Embarked  \n",
       "0      0         A/5 21171   7.2500   NaN        S  \n",
       "1      0          PC 17599  71.2833   C85        C  \n",
       "2      0  STON/O2. 3101282   7.9250   NaN        S  \n",
       "3      0            113803  53.1000  C123        S  \n",
       "4      0            373450   8.0500   NaN        S  "
      ]
     },
     "execution_count": 55,
     "metadata": {},
     "output_type": "execute_result"
    }
   ],
   "source": [
    "train.head()"
   ]
  },
  {
   "cell_type": "code",
   "execution_count": 56,
   "metadata": {
    "execution": {
     "iopub.execute_input": "2021-11-08T12:34:39.614652Z",
     "iopub.status.busy": "2021-11-08T12:34:39.614391Z",
     "iopub.status.idle": "2021-11-08T12:34:39.630110Z",
     "shell.execute_reply": "2021-11-08T12:34:39.629456Z",
     "shell.execute_reply.started": "2021-11-08T12:34:39.614614Z"
    }
   },
   "outputs": [
    {
     "data": {
      "text/html": [
       "<div>\n",
       "<style scoped>\n",
       "    .dataframe tbody tr th:only-of-type {\n",
       "        vertical-align: middle;\n",
       "    }\n",
       "\n",
       "    .dataframe tbody tr th {\n",
       "        vertical-align: top;\n",
       "    }\n",
       "\n",
       "    .dataframe thead th {\n",
       "        text-align: right;\n",
       "    }\n",
       "</style>\n",
       "<table border=\"1\" class=\"dataframe\">\n",
       "  <thead>\n",
       "    <tr style=\"text-align: right;\">\n",
       "      <th></th>\n",
       "      <th>PassengerId</th>\n",
       "      <th>Pclass</th>\n",
       "      <th>Name</th>\n",
       "      <th>Sex</th>\n",
       "      <th>Age</th>\n",
       "      <th>SibSp</th>\n",
       "      <th>Parch</th>\n",
       "      <th>Ticket</th>\n",
       "      <th>Fare</th>\n",
       "      <th>Cabin</th>\n",
       "      <th>Embarked</th>\n",
       "    </tr>\n",
       "  </thead>\n",
       "  <tbody>\n",
       "    <tr>\n",
       "      <th>0</th>\n",
       "      <td>892</td>\n",
       "      <td>3</td>\n",
       "      <td>Kelly, Mr. James</td>\n",
       "      <td>male</td>\n",
       "      <td>34.5</td>\n",
       "      <td>0</td>\n",
       "      <td>0</td>\n",
       "      <td>330911</td>\n",
       "      <td>7.8292</td>\n",
       "      <td>NaN</td>\n",
       "      <td>Q</td>\n",
       "    </tr>\n",
       "    <tr>\n",
       "      <th>1</th>\n",
       "      <td>893</td>\n",
       "      <td>3</td>\n",
       "      <td>Wilkes, Mrs. James (Ellen Needs)</td>\n",
       "      <td>female</td>\n",
       "      <td>47.0</td>\n",
       "      <td>1</td>\n",
       "      <td>0</td>\n",
       "      <td>363272</td>\n",
       "      <td>7.0000</td>\n",
       "      <td>NaN</td>\n",
       "      <td>S</td>\n",
       "    </tr>\n",
       "    <tr>\n",
       "      <th>2</th>\n",
       "      <td>894</td>\n",
       "      <td>2</td>\n",
       "      <td>Myles, Mr. Thomas Francis</td>\n",
       "      <td>male</td>\n",
       "      <td>62.0</td>\n",
       "      <td>0</td>\n",
       "      <td>0</td>\n",
       "      <td>240276</td>\n",
       "      <td>9.6875</td>\n",
       "      <td>NaN</td>\n",
       "      <td>Q</td>\n",
       "    </tr>\n",
       "    <tr>\n",
       "      <th>3</th>\n",
       "      <td>895</td>\n",
       "      <td>3</td>\n",
       "      <td>Wirz, Mr. Albert</td>\n",
       "      <td>male</td>\n",
       "      <td>27.0</td>\n",
       "      <td>0</td>\n",
       "      <td>0</td>\n",
       "      <td>315154</td>\n",
       "      <td>8.6625</td>\n",
       "      <td>NaN</td>\n",
       "      <td>S</td>\n",
       "    </tr>\n",
       "    <tr>\n",
       "      <th>4</th>\n",
       "      <td>896</td>\n",
       "      <td>3</td>\n",
       "      <td>Hirvonen, Mrs. Alexander (Helga E Lindqvist)</td>\n",
       "      <td>female</td>\n",
       "      <td>22.0</td>\n",
       "      <td>1</td>\n",
       "      <td>1</td>\n",
       "      <td>3101298</td>\n",
       "      <td>12.2875</td>\n",
       "      <td>NaN</td>\n",
       "      <td>S</td>\n",
       "    </tr>\n",
       "  </tbody>\n",
       "</table>\n",
       "</div>"
      ],
      "text/plain": [
       "   PassengerId  Pclass                                          Name     Sex  \\\n",
       "0          892       3                              Kelly, Mr. James    male   \n",
       "1          893       3              Wilkes, Mrs. James (Ellen Needs)  female   \n",
       "2          894       2                     Myles, Mr. Thomas Francis    male   \n",
       "3          895       3                              Wirz, Mr. Albert    male   \n",
       "4          896       3  Hirvonen, Mrs. Alexander (Helga E Lindqvist)  female   \n",
       "\n",
       "    Age  SibSp  Parch   Ticket     Fare Cabin Embarked  \n",
       "0  34.5      0      0   330911   7.8292   NaN        Q  \n",
       "1  47.0      1      0   363272   7.0000   NaN        S  \n",
       "2  62.0      0      0   240276   9.6875   NaN        Q  \n",
       "3  27.0      0      0   315154   8.6625   NaN        S  \n",
       "4  22.0      1      1  3101298  12.2875   NaN        S  "
      ]
     },
     "execution_count": 56,
     "metadata": {},
     "output_type": "execute_result"
    }
   ],
   "source": [
    "test.head()"
   ]
  },
  {
   "cell_type": "code",
   "execution_count": 57,
   "metadata": {
    "execution": {
     "iopub.execute_input": "2021-11-08T12:34:39.631924Z",
     "iopub.status.busy": "2021-11-08T12:34:39.631499Z",
     "iopub.status.idle": "2021-11-08T12:34:39.644108Z",
     "shell.execute_reply": "2021-11-08T12:34:39.643014Z",
     "shell.execute_reply.started": "2021-11-08T12:34:39.631883Z"
    }
   },
   "outputs": [
    {
     "data": {
      "text/plain": [
       "{'Survived'}"
      ]
     },
     "execution_count": 57,
     "metadata": {},
     "output_type": "execute_result"
    }
   ],
   "source": [
    "# dependent variable: Survived\n",
    "set(train.columns) - set(test.columns)"
   ]
  },
  {
   "cell_type": "code",
   "execution_count": 58,
   "metadata": {
    "execution": {
     "iopub.execute_input": "2021-11-08T12:34:39.646638Z",
     "iopub.status.busy": "2021-11-08T12:34:39.645489Z",
     "iopub.status.idle": "2021-11-08T12:34:39.669518Z",
     "shell.execute_reply": "2021-11-08T12:34:39.668641Z",
     "shell.execute_reply.started": "2021-11-08T12:34:39.646573Z"
    }
   },
   "outputs": [
    {
     "name": "stdout",
     "output_type": "stream",
     "text": [
      "<class 'pandas.core.frame.DataFrame'>\n",
      "RangeIndex: 891 entries, 0 to 890\n",
      "Data columns (total 12 columns):\n",
      " #   Column       Non-Null Count  Dtype  \n",
      "---  ------       --------------  -----  \n",
      " 0   PassengerId  891 non-null    int64  \n",
      " 1   Survived     891 non-null    int64  \n",
      " 2   Pclass       891 non-null    int64  \n",
      " 3   Name         891 non-null    object \n",
      " 4   Sex          891 non-null    object \n",
      " 5   Age          714 non-null    float64\n",
      " 6   SibSp        891 non-null    int64  \n",
      " 7   Parch        891 non-null    int64  \n",
      " 8   Ticket       891 non-null    object \n",
      " 9   Fare         891 non-null    float64\n",
      " 10  Cabin        204 non-null    object \n",
      " 11  Embarked     889 non-null    object \n",
      "dtypes: float64(2), int64(5), object(5)\n",
      "memory usage: 83.7+ KB\n"
     ]
    }
   ],
   "source": [
    "train.info()"
   ]
  },
  {
   "cell_type": "code",
   "execution_count": 59,
   "metadata": {
    "execution": {
     "iopub.execute_input": "2021-11-08T12:34:39.671824Z",
     "iopub.status.busy": "2021-11-08T12:34:39.671312Z",
     "iopub.status.idle": "2021-11-08T12:34:39.706631Z",
     "shell.execute_reply": "2021-11-08T12:34:39.705654Z",
     "shell.execute_reply.started": "2021-11-08T12:34:39.671776Z"
    }
   },
   "outputs": [
    {
     "data": {
      "text/html": [
       "<table><tr> <td><div>\n",
       "<style scoped>\n",
       "    .dataframe tbody tr th:only-of-type {\n",
       "        vertical-align: middle;\n",
       "    }\n",
       "\n",
       "    .dataframe tbody tr th {\n",
       "        vertical-align: top;\n",
       "    }\n",
       "\n",
       "    .dataframe thead th {\n",
       "        text-align: right;\n",
       "    }\n",
       "</style>\n",
       "<table border=\"1\" class=\"dataframe\">\n",
       "  <thead>\n",
       "    <tr style=\"text-align: right;\">\n",
       "      <th></th>\n",
       "      <th>PassengerId</th>\n",
       "    </tr>\n",
       "  </thead>\n",
       "  <tbody>\n",
       "    <tr>\n",
       "      <th>1</th>\n",
       "      <td>1</td>\n",
       "    </tr>\n",
       "    <tr>\n",
       "      <th>861</th>\n",
       "      <td>1</td>\n",
       "    </tr>\n",
       "    <tr>\n",
       "      <th>879</th>\n",
       "      <td>1</td>\n",
       "    </tr>\n",
       "    <tr>\n",
       "      <th>878</th>\n",
       "      <td>1</td>\n",
       "    </tr>\n",
       "    <tr>\n",
       "      <th>877</th>\n",
       "      <td>1</td>\n",
       "    </tr>\n",
       "    <tr>\n",
       "      <th>...</th>\n",
       "      <td>...</td>\n",
       "    </tr>\n",
       "    <tr>\n",
       "      <th>436</th>\n",
       "      <td>1</td>\n",
       "    </tr>\n",
       "    <tr>\n",
       "      <th>435</th>\n",
       "      <td>1</td>\n",
       "    </tr>\n",
       "    <tr>\n",
       "      <th>434</th>\n",
       "      <td>1</td>\n",
       "    </tr>\n",
       "    <tr>\n",
       "      <th>433</th>\n",
       "      <td>1</td>\n",
       "    </tr>\n",
       "    <tr>\n",
       "      <th>1309</th>\n",
       "      <td>1</td>\n",
       "    </tr>\n",
       "  </tbody>\n",
       "</table>\n",
       "<p>1309 rows × 1 columns</p>\n",
       "</div></td><td><div>\n",
       "<style scoped>\n",
       "    .dataframe tbody tr th:only-of-type {\n",
       "        vertical-align: middle;\n",
       "    }\n",
       "\n",
       "    .dataframe tbody tr th {\n",
       "        vertical-align: top;\n",
       "    }\n",
       "\n",
       "    .dataframe thead th {\n",
       "        text-align: right;\n",
       "    }\n",
       "</style>\n",
       "<table border=\"1\" class=\"dataframe\">\n",
       "  <thead>\n",
       "    <tr style=\"text-align: right;\">\n",
       "      <th></th>\n",
       "      <th>Pclass</th>\n",
       "    </tr>\n",
       "  </thead>\n",
       "  <tbody>\n",
       "    <tr>\n",
       "      <th>3</th>\n",
       "      <td>709</td>\n",
       "    </tr>\n",
       "    <tr>\n",
       "      <th>1</th>\n",
       "      <td>323</td>\n",
       "    </tr>\n",
       "    <tr>\n",
       "      <th>2</th>\n",
       "      <td>277</td>\n",
       "    </tr>\n",
       "  </tbody>\n",
       "</table>\n",
       "</div></td><td><div>\n",
       "<style scoped>\n",
       "    .dataframe tbody tr th:only-of-type {\n",
       "        vertical-align: middle;\n",
       "    }\n",
       "\n",
       "    .dataframe tbody tr th {\n",
       "        vertical-align: top;\n",
       "    }\n",
       "\n",
       "    .dataframe thead th {\n",
       "        text-align: right;\n",
       "    }\n",
       "</style>\n",
       "<table border=\"1\" class=\"dataframe\">\n",
       "  <thead>\n",
       "    <tr style=\"text-align: right;\">\n",
       "      <th></th>\n",
       "      <th>Name</th>\n",
       "    </tr>\n",
       "  </thead>\n",
       "  <tbody>\n",
       "    <tr>\n",
       "      <th>Connolly, Miss. Kate</th>\n",
       "      <td>2</td>\n",
       "    </tr>\n",
       "    <tr>\n",
       "      <th>Kelly, Mr. James</th>\n",
       "      <td>2</td>\n",
       "    </tr>\n",
       "    <tr>\n",
       "      <th>Goldsmith, Mr. Frank John</th>\n",
       "      <td>1</td>\n",
       "    </tr>\n",
       "    <tr>\n",
       "      <th>Carr, Miss. Jeannie</th>\n",
       "      <td>1</td>\n",
       "    </tr>\n",
       "    <tr>\n",
       "      <th>Holverson, Mrs. Alexander Oskar (Mary Aline Towner)</th>\n",
       "      <td>1</td>\n",
       "    </tr>\n",
       "    <tr>\n",
       "      <th>...</th>\n",
       "      <td>...</td>\n",
       "    </tr>\n",
       "    <tr>\n",
       "      <th>Goodwin, Miss. Jessie Allis</th>\n",
       "      <td>1</td>\n",
       "    </tr>\n",
       "    <tr>\n",
       "      <th>Edvardsson, Mr. Gustaf Hjalmar</th>\n",
       "      <td>1</td>\n",
       "    </tr>\n",
       "    <tr>\n",
       "      <th>Davison, Mrs. Thomas Henry (Mary E Finck)</th>\n",
       "      <td>1</td>\n",
       "    </tr>\n",
       "    <tr>\n",
       "      <th>Birnbaum, Mr. Jakob</th>\n",
       "      <td>1</td>\n",
       "    </tr>\n",
       "    <tr>\n",
       "      <th>Williams, Mr. Howard Hugh \"Harry\"</th>\n",
       "      <td>1</td>\n",
       "    </tr>\n",
       "  </tbody>\n",
       "</table>\n",
       "<p>1307 rows × 1 columns</p>\n",
       "</div></td><td><div>\n",
       "<style scoped>\n",
       "    .dataframe tbody tr th:only-of-type {\n",
       "        vertical-align: middle;\n",
       "    }\n",
       "\n",
       "    .dataframe tbody tr th {\n",
       "        vertical-align: top;\n",
       "    }\n",
       "\n",
       "    .dataframe thead th {\n",
       "        text-align: right;\n",
       "    }\n",
       "</style>\n",
       "<table border=\"1\" class=\"dataframe\">\n",
       "  <thead>\n",
       "    <tr style=\"text-align: right;\">\n",
       "      <th></th>\n",
       "      <th>Sex</th>\n",
       "    </tr>\n",
       "  </thead>\n",
       "  <tbody>\n",
       "    <tr>\n",
       "      <th>male</th>\n",
       "      <td>843</td>\n",
       "    </tr>\n",
       "    <tr>\n",
       "      <th>female</th>\n",
       "      <td>466</td>\n",
       "    </tr>\n",
       "  </tbody>\n",
       "</table>\n",
       "</div></td><td><div>\n",
       "<style scoped>\n",
       "    .dataframe tbody tr th:only-of-type {\n",
       "        vertical-align: middle;\n",
       "    }\n",
       "\n",
       "    .dataframe tbody tr th {\n",
       "        vertical-align: top;\n",
       "    }\n",
       "\n",
       "    .dataframe thead th {\n",
       "        text-align: right;\n",
       "    }\n",
       "</style>\n",
       "<table border=\"1\" class=\"dataframe\">\n",
       "  <thead>\n",
       "    <tr style=\"text-align: right;\">\n",
       "      <th></th>\n",
       "      <th>Age</th>\n",
       "    </tr>\n",
       "  </thead>\n",
       "  <tbody>\n",
       "    <tr>\n",
       "      <th>24.00</th>\n",
       "      <td>47</td>\n",
       "    </tr>\n",
       "    <tr>\n",
       "      <th>22.00</th>\n",
       "      <td>43</td>\n",
       "    </tr>\n",
       "    <tr>\n",
       "      <th>21.00</th>\n",
       "      <td>41</td>\n",
       "    </tr>\n",
       "    <tr>\n",
       "      <th>30.00</th>\n",
       "      <td>40</td>\n",
       "    </tr>\n",
       "    <tr>\n",
       "      <th>18.00</th>\n",
       "      <td>39</td>\n",
       "    </tr>\n",
       "    <tr>\n",
       "      <th>...</th>\n",
       "      <td>...</td>\n",
       "    </tr>\n",
       "    <tr>\n",
       "      <th>20.50</th>\n",
       "      <td>1</td>\n",
       "    </tr>\n",
       "    <tr>\n",
       "      <th>11.50</th>\n",
       "      <td>1</td>\n",
       "    </tr>\n",
       "    <tr>\n",
       "      <th>22.50</th>\n",
       "      <td>1</td>\n",
       "    </tr>\n",
       "    <tr>\n",
       "      <th>0.33</th>\n",
       "      <td>1</td>\n",
       "    </tr>\n",
       "    <tr>\n",
       "      <th>60.50</th>\n",
       "      <td>1</td>\n",
       "    </tr>\n",
       "  </tbody>\n",
       "</table>\n",
       "<p>98 rows × 1 columns</p>\n",
       "</div></td><td><div>\n",
       "<style scoped>\n",
       "    .dataframe tbody tr th:only-of-type {\n",
       "        vertical-align: middle;\n",
       "    }\n",
       "\n",
       "    .dataframe tbody tr th {\n",
       "        vertical-align: top;\n",
       "    }\n",
       "\n",
       "    .dataframe thead th {\n",
       "        text-align: right;\n",
       "    }\n",
       "</style>\n",
       "<table border=\"1\" class=\"dataframe\">\n",
       "  <thead>\n",
       "    <tr style=\"text-align: right;\">\n",
       "      <th></th>\n",
       "      <th>SibSp</th>\n",
       "    </tr>\n",
       "  </thead>\n",
       "  <tbody>\n",
       "    <tr>\n",
       "      <th>0</th>\n",
       "      <td>891</td>\n",
       "    </tr>\n",
       "    <tr>\n",
       "      <th>1</th>\n",
       "      <td>319</td>\n",
       "    </tr>\n",
       "    <tr>\n",
       "      <th>2</th>\n",
       "      <td>42</td>\n",
       "    </tr>\n",
       "    <tr>\n",
       "      <th>4</th>\n",
       "      <td>22</td>\n",
       "    </tr>\n",
       "    <tr>\n",
       "      <th>3</th>\n",
       "      <td>20</td>\n",
       "    </tr>\n",
       "    <tr>\n",
       "      <th>8</th>\n",
       "      <td>9</td>\n",
       "    </tr>\n",
       "    <tr>\n",
       "      <th>5</th>\n",
       "      <td>6</td>\n",
       "    </tr>\n",
       "  </tbody>\n",
       "</table>\n",
       "</div></td><td><div>\n",
       "<style scoped>\n",
       "    .dataframe tbody tr th:only-of-type {\n",
       "        vertical-align: middle;\n",
       "    }\n",
       "\n",
       "    .dataframe tbody tr th {\n",
       "        vertical-align: top;\n",
       "    }\n",
       "\n",
       "    .dataframe thead th {\n",
       "        text-align: right;\n",
       "    }\n",
       "</style>\n",
       "<table border=\"1\" class=\"dataframe\">\n",
       "  <thead>\n",
       "    <tr style=\"text-align: right;\">\n",
       "      <th></th>\n",
       "      <th>Parch</th>\n",
       "    </tr>\n",
       "  </thead>\n",
       "  <tbody>\n",
       "    <tr>\n",
       "      <th>0</th>\n",
       "      <td>1002</td>\n",
       "    </tr>\n",
       "    <tr>\n",
       "      <th>1</th>\n",
       "      <td>170</td>\n",
       "    </tr>\n",
       "    <tr>\n",
       "      <th>2</th>\n",
       "      <td>113</td>\n",
       "    </tr>\n",
       "    <tr>\n",
       "      <th>3</th>\n",
       "      <td>8</td>\n",
       "    </tr>\n",
       "    <tr>\n",
       "      <th>4</th>\n",
       "      <td>6</td>\n",
       "    </tr>\n",
       "    <tr>\n",
       "      <th>5</th>\n",
       "      <td>6</td>\n",
       "    </tr>\n",
       "    <tr>\n",
       "      <th>6</th>\n",
       "      <td>2</td>\n",
       "    </tr>\n",
       "    <tr>\n",
       "      <th>9</th>\n",
       "      <td>2</td>\n",
       "    </tr>\n",
       "  </tbody>\n",
       "</table>\n",
       "</div></td><td><div>\n",
       "<style scoped>\n",
       "    .dataframe tbody tr th:only-of-type {\n",
       "        vertical-align: middle;\n",
       "    }\n",
       "\n",
       "    .dataframe tbody tr th {\n",
       "        vertical-align: top;\n",
       "    }\n",
       "\n",
       "    .dataframe thead th {\n",
       "        text-align: right;\n",
       "    }\n",
       "</style>\n",
       "<table border=\"1\" class=\"dataframe\">\n",
       "  <thead>\n",
       "    <tr style=\"text-align: right;\">\n",
       "      <th></th>\n",
       "      <th>Ticket</th>\n",
       "    </tr>\n",
       "  </thead>\n",
       "  <tbody>\n",
       "    <tr>\n",
       "      <th>CA. 2343</th>\n",
       "      <td>11</td>\n",
       "    </tr>\n",
       "    <tr>\n",
       "      <th>CA 2144</th>\n",
       "      <td>8</td>\n",
       "    </tr>\n",
       "    <tr>\n",
       "      <th>1601</th>\n",
       "      <td>8</td>\n",
       "    </tr>\n",
       "    <tr>\n",
       "      <th>S.O.C. 14879</th>\n",
       "      <td>7</td>\n",
       "    </tr>\n",
       "    <tr>\n",
       "      <th>347082</th>\n",
       "      <td>7</td>\n",
       "    </tr>\n",
       "    <tr>\n",
       "      <th>...</th>\n",
       "      <td>...</td>\n",
       "    </tr>\n",
       "    <tr>\n",
       "      <th>32302</th>\n",
       "      <td>1</td>\n",
       "    </tr>\n",
       "    <tr>\n",
       "      <th>3411</th>\n",
       "      <td>1</td>\n",
       "    </tr>\n",
       "    <tr>\n",
       "      <th>11752</th>\n",
       "      <td>1</td>\n",
       "    </tr>\n",
       "    <tr>\n",
       "      <th>STON/O 2. 3101291</th>\n",
       "      <td>1</td>\n",
       "    </tr>\n",
       "    <tr>\n",
       "      <th>SOTON/O.Q. 3101263</th>\n",
       "      <td>1</td>\n",
       "    </tr>\n",
       "  </tbody>\n",
       "</table>\n",
       "<p>929 rows × 1 columns</p>\n",
       "</div></td><td><div>\n",
       "<style scoped>\n",
       "    .dataframe tbody tr th:only-of-type {\n",
       "        vertical-align: middle;\n",
       "    }\n",
       "\n",
       "    .dataframe tbody tr th {\n",
       "        vertical-align: top;\n",
       "    }\n",
       "\n",
       "    .dataframe thead th {\n",
       "        text-align: right;\n",
       "    }\n",
       "</style>\n",
       "<table border=\"1\" class=\"dataframe\">\n",
       "  <thead>\n",
       "    <tr style=\"text-align: right;\">\n",
       "      <th></th>\n",
       "      <th>Fare</th>\n",
       "    </tr>\n",
       "  </thead>\n",
       "  <tbody>\n",
       "    <tr>\n",
       "      <th>8.0500</th>\n",
       "      <td>60</td>\n",
       "    </tr>\n",
       "    <tr>\n",
       "      <th>13.0000</th>\n",
       "      <td>59</td>\n",
       "    </tr>\n",
       "    <tr>\n",
       "      <th>7.7500</th>\n",
       "      <td>55</td>\n",
       "    </tr>\n",
       "    <tr>\n",
       "      <th>26.0000</th>\n",
       "      <td>50</td>\n",
       "    </tr>\n",
       "    <tr>\n",
       "      <th>7.8958</th>\n",
       "      <td>49</td>\n",
       "    </tr>\n",
       "    <tr>\n",
       "      <th>...</th>\n",
       "      <td>...</td>\n",
       "    </tr>\n",
       "    <tr>\n",
       "      <th>4.0125</th>\n",
       "      <td>1</td>\n",
       "    </tr>\n",
       "    <tr>\n",
       "      <th>25.5875</th>\n",
       "      <td>1</td>\n",
       "    </tr>\n",
       "    <tr>\n",
       "      <th>12.2750</th>\n",
       "      <td>1</td>\n",
       "    </tr>\n",
       "    <tr>\n",
       "      <th>8.6833</th>\n",
       "      <td>1</td>\n",
       "    </tr>\n",
       "    <tr>\n",
       "      <th>32.3208</th>\n",
       "      <td>1</td>\n",
       "    </tr>\n",
       "  </tbody>\n",
       "</table>\n",
       "<p>281 rows × 1 columns</p>\n",
       "</div></td><td><div>\n",
       "<style scoped>\n",
       "    .dataframe tbody tr th:only-of-type {\n",
       "        vertical-align: middle;\n",
       "    }\n",
       "\n",
       "    .dataframe tbody tr th {\n",
       "        vertical-align: top;\n",
       "    }\n",
       "\n",
       "    .dataframe thead th {\n",
       "        text-align: right;\n",
       "    }\n",
       "</style>\n",
       "<table border=\"1\" class=\"dataframe\">\n",
       "  <thead>\n",
       "    <tr style=\"text-align: right;\">\n",
       "      <th></th>\n",
       "      <th>Cabin</th>\n",
       "    </tr>\n",
       "  </thead>\n",
       "  <tbody>\n",
       "    <tr>\n",
       "      <th>C23 C25 C27</th>\n",
       "      <td>6</td>\n",
       "    </tr>\n",
       "    <tr>\n",
       "      <th>G6</th>\n",
       "      <td>5</td>\n",
       "    </tr>\n",
       "    <tr>\n",
       "      <th>B57 B59 B63 B66</th>\n",
       "      <td>5</td>\n",
       "    </tr>\n",
       "    <tr>\n",
       "      <th>B96 B98</th>\n",
       "      <td>4</td>\n",
       "    </tr>\n",
       "    <tr>\n",
       "      <th>F4</th>\n",
       "      <td>4</td>\n",
       "    </tr>\n",
       "    <tr>\n",
       "      <th>...</th>\n",
       "      <td>...</td>\n",
       "    </tr>\n",
       "    <tr>\n",
       "      <th>C148</th>\n",
       "      <td>1</td>\n",
       "    </tr>\n",
       "    <tr>\n",
       "      <th>B61</th>\n",
       "      <td>1</td>\n",
       "    </tr>\n",
       "    <tr>\n",
       "      <th>C49</th>\n",
       "      <td>1</td>\n",
       "    </tr>\n",
       "    <tr>\n",
       "      <th>C130</th>\n",
       "      <td>1</td>\n",
       "    </tr>\n",
       "    <tr>\n",
       "      <th>C111</th>\n",
       "      <td>1</td>\n",
       "    </tr>\n",
       "  </tbody>\n",
       "</table>\n",
       "<p>186 rows × 1 columns</p>\n",
       "</div></td><td><div>\n",
       "<style scoped>\n",
       "    .dataframe tbody tr th:only-of-type {\n",
       "        vertical-align: middle;\n",
       "    }\n",
       "\n",
       "    .dataframe tbody tr th {\n",
       "        vertical-align: top;\n",
       "    }\n",
       "\n",
       "    .dataframe thead th {\n",
       "        text-align: right;\n",
       "    }\n",
       "</style>\n",
       "<table border=\"1\" class=\"dataframe\">\n",
       "  <thead>\n",
       "    <tr style=\"text-align: right;\">\n",
       "      <th></th>\n",
       "      <th>Embarked</th>\n",
       "    </tr>\n",
       "  </thead>\n",
       "  <tbody>\n",
       "    <tr>\n",
       "      <th>S</th>\n",
       "      <td>914</td>\n",
       "    </tr>\n",
       "    <tr>\n",
       "      <th>C</th>\n",
       "      <td>270</td>\n",
       "    </tr>\n",
       "    <tr>\n",
       "      <th>Q</th>\n",
       "      <td>123</td>\n",
       "    </tr>\n",
       "  </tbody>\n",
       "</table>\n",
       "</div></td> </tr></table>"
      ],
      "text/plain": [
       "<IPython.core.display.HTML object>"
      ]
     },
     "execution_count": 59,
     "metadata": {},
     "output_type": "execute_result"
    }
   ],
   "source": [
    "multi_table([pd.DataFrame(data[i].value_counts()) for i in data.columns])"
   ]
  },
  {
   "cell_type": "code",
   "execution_count": 60,
   "metadata": {
    "execution": {
     "iopub.execute_input": "2021-11-08T12:34:39.710939Z",
     "iopub.status.busy": "2021-11-08T12:34:39.710358Z",
     "iopub.status.idle": "2021-11-08T12:34:39.727073Z",
     "shell.execute_reply": "2021-11-08T12:34:39.726246Z",
     "shell.execute_reply.started": "2021-11-08T12:34:39.710885Z"
    }
   },
   "outputs": [],
   "source": [
    "# Check nominal variables and order variables.\n",
    "# all order vairables(Pclass) are aleady numeric type.\n",
    "nominal_vars = ['PassengerId', 'Name', 'Sex', 'Ticket', 'Cabin', 'Embarked']\n",
    "data[nominal_vars] = data[nominal_vars].astype('category')"
   ]
  },
  {
   "cell_type": "code",
   "execution_count": 61,
   "metadata": {
    "execution": {
     "iopub.execute_input": "2021-11-08T12:34:39.729955Z",
     "iopub.status.busy": "2021-11-08T12:34:39.728962Z",
     "iopub.status.idle": "2021-11-08T12:34:39.734433Z",
     "shell.execute_reply": "2021-11-08T12:34:39.733501Z",
     "shell.execute_reply.started": "2021-11-08T12:34:39.729899Z"
    }
   },
   "outputs": [],
   "source": [
    "# Have to check distribution (skew, histogram, barplot...)\n",
    "# Have to check derivative possible variables"
   ]
  },
  {
   "cell_type": "markdown",
   "metadata": {},
   "source": [
    "# Missing values and Create Derivative variables"
   ]
  },
  {
   "cell_type": "code",
   "execution_count": 62,
   "metadata": {
    "execution": {
     "iopub.execute_input": "2021-11-08T12:34:39.736821Z",
     "iopub.status.busy": "2021-11-08T12:34:39.735902Z",
     "iopub.status.idle": "2021-11-08T12:34:39.767751Z",
     "shell.execute_reply": "2021-11-08T12:34:39.767069Z",
     "shell.execute_reply.started": "2021-11-08T12:34:39.736769Z"
    }
   },
   "outputs": [
    {
     "data": {
      "text/html": [
       "<div>\n",
       "<style scoped>\n",
       "    .dataframe tbody tr th:only-of-type {\n",
       "        vertical-align: middle;\n",
       "    }\n",
       "\n",
       "    .dataframe tbody tr th {\n",
       "        vertical-align: top;\n",
       "    }\n",
       "\n",
       "    .dataframe thead th {\n",
       "        text-align: right;\n",
       "    }\n",
       "</style>\n",
       "<table border=\"1\" class=\"dataframe\">\n",
       "  <thead>\n",
       "    <tr style=\"text-align: right;\">\n",
       "      <th></th>\n",
       "      <th>count</th>\n",
       "      <th>percent</th>\n",
       "    </tr>\n",
       "  </thead>\n",
       "  <tbody>\n",
       "    <tr>\n",
       "      <th>Cabin</th>\n",
       "      <td>1014.0</td>\n",
       "      <td>0.774637</td>\n",
       "    </tr>\n",
       "    <tr>\n",
       "      <th>Age</th>\n",
       "      <td>263.0</td>\n",
       "      <td>0.200917</td>\n",
       "    </tr>\n",
       "    <tr>\n",
       "      <th>Embarked</th>\n",
       "      <td>2.0</td>\n",
       "      <td>0.001528</td>\n",
       "    </tr>\n",
       "    <tr>\n",
       "      <th>Fare</th>\n",
       "      <td>1.0</td>\n",
       "      <td>0.000764</td>\n",
       "    </tr>\n",
       "  </tbody>\n",
       "</table>\n",
       "</div>"
      ],
      "text/plain": [
       "           count   percent\n",
       "Cabin     1014.0  0.774637\n",
       "Age        263.0  0.200917\n",
       "Embarked     2.0  0.001528\n",
       "Fare         1.0  0.000764"
      ]
     },
     "execution_count": 62,
     "metadata": {},
     "output_type": "execute_result"
    }
   ],
   "source": [
    "miss_cnt = data.isnull().sum().sort_values(ascending=False)\n",
    "miss_pct = miss_cnt / data.shape[0]\n",
    "miss_table = pd.DataFrame([miss_cnt, miss_pct], index=['count', 'percent']).T\n",
    "miss_table = miss_table[miss_table['count'] > 0]\n",
    "miss_table"
   ]
  },
  {
   "cell_type": "markdown",
   "metadata": {},
   "source": [
    "Cabin: delete columns"
   ]
  },
  {
   "cell_type": "code",
   "execution_count": 63,
   "metadata": {
    "execution": {
     "iopub.execute_input": "2021-11-08T12:34:39.769298Z",
     "iopub.status.busy": "2021-11-08T12:34:39.768925Z",
     "iopub.status.idle": "2021-11-08T12:34:39.774414Z",
     "shell.execute_reply": "2021-11-08T12:34:39.773764Z",
     "shell.execute_reply.started": "2021-11-08T12:34:39.769264Z"
    }
   },
   "outputs": [],
   "source": [
    "data.drop(['Cabin'], axis=1, inplace=True)"
   ]
  },
  {
   "cell_type": "markdown",
   "metadata": {},
   "source": [
    "Embarked: fill na by mode"
   ]
  },
  {
   "cell_type": "code",
   "execution_count": 64,
   "metadata": {
    "execution": {
     "iopub.execute_input": "2021-11-08T12:34:39.775954Z",
     "iopub.status.busy": "2021-11-08T12:34:39.775710Z",
     "iopub.status.idle": "2021-11-08T12:34:39.789460Z",
     "shell.execute_reply": "2021-11-08T12:34:39.788672Z",
     "shell.execute_reply.started": "2021-11-08T12:34:39.775923Z"
    }
   },
   "outputs": [],
   "source": [
    "data['Embarked'] = data['Embarked'].fillna(data['Embarked'].mode()[0])"
   ]
  },
  {
   "cell_type": "markdown",
   "metadata": {},
   "source": [
    "Fare: fill na by median / create derivative variable(FareBin)"
   ]
  },
  {
   "cell_type": "code",
   "execution_count": 65,
   "metadata": {
    "execution": {
     "iopub.execute_input": "2021-11-08T12:34:39.791312Z",
     "iopub.status.busy": "2021-11-08T12:34:39.790872Z",
     "iopub.status.idle": "2021-11-08T12:34:39.811040Z",
     "shell.execute_reply": "2021-11-08T12:34:39.810176Z",
     "shell.execute_reply.started": "2021-11-08T12:34:39.791273Z"
    }
   },
   "outputs": [],
   "source": [
    "data['Fare'] = data['Fare'].fillna(data['Fare'].median())\n",
    "data['FareBin']= pd.qcut(data['Fare'], 5)"
   ]
  },
  {
   "cell_type": "markdown",
   "metadata": {},
   "source": [
    "Name: create Derivative variable"
   ]
  },
  {
   "cell_type": "code",
   "execution_count": 66,
   "metadata": {
    "execution": {
     "iopub.execute_input": "2021-11-08T12:34:39.813494Z",
     "iopub.status.busy": "2021-11-08T12:34:39.812607Z",
     "iopub.status.idle": "2021-11-08T12:34:39.832177Z",
     "shell.execute_reply": "2021-11-08T12:34:39.830884Z",
     "shell.execute_reply.started": "2021-11-08T12:34:39.813439Z"
    }
   },
   "outputs": [],
   "source": [
    "titles = data['Name'].str.extract(' ([A-Za-z]+)\\.', expand=False)\n",
    "value_count_title = titles.value_counts()\n",
    "other_titles = value_count_title.index[value_count_title.values < 10]\n",
    "data['Title'] = titles\n",
    "data['Title'] = data['Title'].replace(other_titles, 'Other')"
   ]
  },
  {
   "cell_type": "markdown",
   "metadata": {},
   "source": [
    "Age: fill na median by Title / create derivative variables (AgeBin)"
   ]
  },
  {
   "cell_type": "code",
   "execution_count": 67,
   "metadata": {
    "execution": {
     "iopub.execute_input": "2021-11-08T12:34:39.834487Z",
     "iopub.status.busy": "2021-11-08T12:34:39.833955Z",
     "iopub.status.idle": "2021-11-08T12:34:39.862171Z",
     "shell.execute_reply": "2021-11-08T12:34:39.861299Z",
     "shell.execute_reply.started": "2021-11-08T12:34:39.834437Z"
    }
   },
   "outputs": [],
   "source": [
    "data.loc[data['Age'].isnull(), 'Age'] = data.groupby('Title').Age.transform('median')\n",
    "data['AgeBin'] = 0\n",
    "data.loc[data['Age'] <= 10, 'AgeBin'] = 0\n",
    "data.loc[(data['Age'] > 10) & (data['Age'] <= 16), 'AgeBin'] = 1\n",
    "data.loc[(data['Age'] > 16) & (data['Age'] <= 20), 'AgeBin'] = 2\n",
    "data.loc[(data['Age'] > 20) & (data['Age'] <= 26), 'AgeBin'] = 3\n",
    "data.loc[(data['Age'] > 26) & (data['Age'] <= 30), 'AgeBin'] = 4\n",
    "data.loc[(data['Age'] > 30) & (data['Age'] <= 36), 'AgeBin'] = 5\n",
    "data.loc[(data['Age'] > 36) & (data['Age'] <= 40), 'AgeBin'] = 6\n",
    "data.loc[(data['Age'] > 40) & (data['Age'] <= 46), 'AgeBin'] = 7\n",
    "data.loc[(data['Age'] > 46) & (data['Age'] <= 50), 'AgeBin'] = 8\n",
    "data.loc[(data['Age'] > 50) & (data['Age'] <= 60), 'AgeBin'] = 9\n",
    "data.loc[(data['Age'] > 60), 'AgeBin'] = 10"
   ]
  },
  {
   "cell_type": "markdown",
   "metadata": {},
   "source": [
    "SibSp, Parch: create derivative variable(Family)"
   ]
  },
  {
   "cell_type": "code",
   "execution_count": 68,
   "metadata": {
    "execution": {
     "iopub.execute_input": "2021-11-08T12:34:39.864241Z",
     "iopub.status.busy": "2021-11-08T12:34:39.863274Z",
     "iopub.status.idle": "2021-11-08T12:34:39.870229Z",
     "shell.execute_reply": "2021-11-08T12:34:39.869374Z",
     "shell.execute_reply.started": "2021-11-08T12:34:39.864191Z"
    }
   },
   "outputs": [],
   "source": [
    "data['Family'] = data['SibSp'] + data['Parch']"
   ]
  },
  {
   "cell_type": "markdown",
   "metadata": {},
   "source": [
    "Family: create derivative variable(Solo)"
   ]
  },
  {
   "cell_type": "code",
   "execution_count": 69,
   "metadata": {
    "execution": {
     "iopub.execute_input": "2021-11-08T12:34:39.873388Z",
     "iopub.status.busy": "2021-11-08T12:34:39.872762Z",
     "iopub.status.idle": "2021-11-08T12:34:39.885165Z",
     "shell.execute_reply": "2021-11-08T12:34:39.884169Z",
     "shell.execute_reply.started": "2021-11-08T12:34:39.873312Z"
    }
   },
   "outputs": [],
   "source": [
    "data['Solo'] = data['Family'] == 1\n",
    "data['Solo'] = data['Solo'].astype('int')"
   ]
  },
  {
   "cell_type": "markdown",
   "metadata": {},
   "source": [
    "# Select Variables and Transform"
   ]
  },
  {
   "cell_type": "code",
   "execution_count": 70,
   "metadata": {
    "execution": {
     "iopub.execute_input": "2021-11-08T12:34:39.887330Z",
     "iopub.status.busy": "2021-11-08T12:34:39.886999Z",
     "iopub.status.idle": "2021-11-08T12:34:39.899641Z",
     "shell.execute_reply": "2021-11-08T12:34:39.898699Z",
     "shell.execute_reply.started": "2021-11-08T12:34:39.887285Z"
    }
   },
   "outputs": [],
   "source": [
    "# delete some variables\n",
    "data.drop(['PassengerId', 'Name', 'SibSp', 'Parch', 'Ticket', 'Age', 'Fare'], axis=1, inplace=True)"
   ]
  },
  {
   "cell_type": "code",
   "execution_count": 71,
   "metadata": {
    "execution": {
     "iopub.execute_input": "2021-11-08T12:34:39.901511Z",
     "iopub.status.busy": "2021-11-08T12:34:39.901116Z",
     "iopub.status.idle": "2021-11-08T12:34:39.912509Z",
     "shell.execute_reply": "2021-11-08T12:34:39.911807Z",
     "shell.execute_reply.started": "2021-11-08T12:34:39.901477Z"
    }
   },
   "outputs": [],
   "source": [
    "# label encoding\n",
    "data['Sex'] = data.Sex.cat.codes\n",
    "data['FareBin'] = data.FareBin.cat.codes"
   ]
  },
  {
   "cell_type": "code",
   "execution_count": 72,
   "metadata": {
    "execution": {
     "iopub.execute_input": "2021-11-08T12:34:39.914163Z",
     "iopub.status.busy": "2021-11-08T12:34:39.913805Z",
     "iopub.status.idle": "2021-11-08T12:34:39.931706Z",
     "shell.execute_reply": "2021-11-08T12:34:39.930651Z",
     "shell.execute_reply.started": "2021-11-08T12:34:39.914133Z"
    }
   },
   "outputs": [],
   "source": [
    "# onehot encoding\n",
    "data = pd.get_dummies(data)"
   ]
  },
  {
   "cell_type": "code",
   "execution_count": 73,
   "metadata": {
    "execution": {
     "iopub.execute_input": "2021-11-08T12:34:39.933544Z",
     "iopub.status.busy": "2021-11-08T12:34:39.933275Z",
     "iopub.status.idle": "2021-11-08T12:34:39.946215Z",
     "shell.execute_reply": "2021-11-08T12:34:39.945425Z",
     "shell.execute_reply.started": "2021-11-08T12:34:39.933510Z"
    }
   },
   "outputs": [],
   "source": [
    "X_train = data.iloc[:train.shape[0], :]\n",
    "X_test = data.iloc[train.shape[0]:, :]\n",
    "y_train = train.Survived"
   ]
  },
  {
   "cell_type": "code",
   "execution_count": 74,
   "metadata": {
    "execution": {
     "iopub.execute_input": "2021-11-08T12:34:39.948121Z",
     "iopub.status.busy": "2021-11-08T12:34:39.947313Z",
     "iopub.status.idle": "2021-11-08T12:34:39.962526Z",
     "shell.execute_reply": "2021-11-08T12:34:39.961475Z",
     "shell.execute_reply.started": "2021-11-08T12:34:39.948078Z"
    }
   },
   "outputs": [
    {
     "data": {
      "text/plain": [
       "((891, 14), (891,), (418, 14))"
      ]
     },
     "execution_count": 74,
     "metadata": {},
     "output_type": "execute_result"
    }
   ],
   "source": [
    "X_train.shape, y_train.shape, X_test.shape"
   ]
  },
  {
   "cell_type": "markdown",
   "metadata": {},
   "source": [
    "# Modeling"
   ]
  },
  {
   "cell_type": "code",
   "execution_count": 89,
   "metadata": {},
   "outputs": [],
   "source": [
    "allow_tuning = True"
   ]
  },
  {
   "cell_type": "code",
   "execution_count": 75,
   "metadata": {
    "execution": {
     "iopub.execute_input": "2021-11-08T12:34:39.964906Z",
     "iopub.status.busy": "2021-11-08T12:34:39.964172Z",
     "iopub.status.idle": "2021-11-08T12:34:39.978147Z",
     "shell.execute_reply": "2021-11-08T12:34:39.977344Z",
     "shell.execute_reply.started": "2021-11-08T12:34:39.964840Z"
    }
   },
   "outputs": [],
   "source": [
    "x_train, x_test, y_tmp_train, y_tmp_test = train_test_split(X_train, y_train, test_size=.2, random_state=42)"
   ]
  },
  {
   "cell_type": "markdown",
   "metadata": {},
   "source": [
    "XGBoost"
   ]
  },
  {
   "cell_type": "code",
   "execution_count": 76,
   "metadata": {},
   "outputs": [],
   "source": [
    "def xgb_gridsearch(params_grid_xgb, features, values, last=False):\n",
    "    cv = RepeatedStratifiedKFold(n_splits = 10, n_repeats = 3, random_state = 42)\n",
    "\n",
    "    model_xgb = XGBClassifier(use_label_encoder = False, \n",
    "                              objective = 'binary:logistic')\n",
    "    \n",
    "    for i in range(len(features)):\n",
    "        params_grid_xgb[features[i]] = values[i]\n",
    "    search_xgb = GridSearchCV(model_xgb, params_grid_xgb, verbose = 0,\n",
    "                              scoring = 'neg_log_loss', cv = cv).fit(x_train, y_tmp_train, early_stopping_rounds = 15, \n",
    "                                  eval_set = [[x_test, y_tmp_test]], \n",
    "                                  eval_metric = 'logloss', verbose = False)\n",
    "    for i in range(len(features)):\n",
    "        print(f\"{features[i]}: {search_xgb.best_params_[features[i]]}\")\n",
    "    for k, v in search_xgb.best_params_.items():\n",
    "        search_xgb.best_params_[k] = [v]\n",
    "    if last:\n",
    "        for k, v in search_xgb.best_params_.items():\n",
    "            search_xgb.best_params_[k] = v[0]\n",
    "    return search_xgb, search_xgb.best_params_"
   ]
  },
  {
   "cell_type": "code",
   "execution_count": 77,
   "metadata": {},
   "outputs": [
    {
     "data": {
      "text/plain": [
       "{'algorithm': 'ball_tree', 'n_neighbors': 7, 'p': 2, 'weights': 'uniform'}"
      ]
     },
     "execution_count": 77,
     "metadata": {},
     "output_type": "execute_result"
    }
   ],
   "source": [
    "if allow_tuning:\n",
    "    params_knn = {\n",
    "        'n_neighbors' : range(1, 10),\n",
    "        'weights' : ['uniform', 'distance'],\n",
    "        'algorithm' : ['auto', 'ball_tree','kd_tree'],\n",
    "        'p' : [1,2]\n",
    "    }\n",
    "    model_knn = knn()\n",
    "    search_knn = GridSearchCV(model_knn, params_knn, cv=5, scoring='accuracy', n_jobs=-1, verbose=0).fit(X_train, y_train)\n",
    "    search_knn.best_params_"
   ]
  },
  {
   "cell_type": "code",
   "execution_count": 78,
   "metadata": {},
   "outputs": [
    {
     "data": {
      "text/plain": [
       "{'C': 4.281332398719396,\n",
       " 'max_iter': 2000,\n",
       " 'penalty': 'l1',\n",
       " 'solver': 'liblinear'}"
      ]
     },
     "execution_count": 78,
     "metadata": {},
     "output_type": "execute_result"
    }
   ],
   "source": [
    "if allow_tuning:\n",
    "    params_logistic = {\n",
    "        'max_iter': [2000],\n",
    "        'penalty': ['l1', 'l2'],\n",
    "        'C': np.logspace(-4, 4, 20),\n",
    "        'solver': ['liblinear']\n",
    "    }\n",
    "    model_logistic = LogisticRegression()\n",
    "    search_logistic = GridSearchCV(model_logistic, params_logistic, cv=5, scoring='accuracy', n_jobs=-1, verbose=0).fit(X_train, y_train)\n",
    "    search_logistic.best_params_"
   ]
  },
  {
   "cell_type": "code",
   "execution_count": 79,
   "metadata": {},
   "outputs": [
    {
     "data": {
      "text/plain": [
       "{'C': 100, 'gamma': 0.01, 'kernel': 'rbf', 'probability': True}"
      ]
     },
     "execution_count": 79,
     "metadata": {},
     "output_type": "execute_result"
    }
   ],
   "source": [
    "if allow_tuning:\n",
    "    params_svc = [{'kernel': ['rbf'], 'gamma': [.01, .1, .5, 1, 2, 5, 10], 'C': [.1, 1, 10, 100, 1000], 'probability': [True]},\n",
    "                  {'kernel': ['linear'], 'C': [.01, .1, 1, 10, 100, 1000], 'probability': [True]},\n",
    "                  {'kernel': ['poly'], 'degree' : [2, 3, 4, 5], 'C': [.01, .1, 1, 10, 100, 1000], 'probability': [True]}]\n",
    "    model_svc = SVC()\n",
    "    search_svc = GridSearchCV(model_svc, params_svc, cv=5, scoring='accuracy', n_jobs=-1, verbose=0).fit(X_train, y_train)\n",
    "    search_svc.best_params_"
   ]
  },
  {
   "cell_type": "code",
   "execution_count": 80,
   "metadata": {
    "scrolled": true
   },
   "outputs": [
    {
     "data": {
      "text/plain": [
       "{'bootstrap': True,\n",
       " 'criterion': 'entropy',\n",
       " 'max_depth': 10,\n",
       " 'max_features': 10,\n",
       " 'min_samples_leaf': 3,\n",
       " 'min_samples_split': 3,\n",
       " 'n_estimators': 100}"
      ]
     },
     "execution_count": 80,
     "metadata": {},
     "output_type": "execute_result"
    }
   ],
   "source": [
    "if allow_tuning:\n",
    "    params_rf = {\n",
    "        'n_estimators': range(100, 500, 1000),\n",
    "        'criterion':['gini','entropy'],\n",
    "        'bootstrap': [True],\n",
    "        'max_depth': [5, 10, 15, 20, 25],\n",
    "        'max_features': ['auto','sqrt', 10],\n",
    "        'min_samples_leaf': [2, 3],\n",
    "        'min_samples_split': [2, 3]}\n",
    "    model_rf = RandomForestClassifier()\n",
    "    search_rf = GridSearchCV(model_rf, params_rf, cv=5, scoring='accuracy', n_jobs=-1, verbose=0).fit(X_train, y_train)\n",
    "    search_rf.best_params_"
   ]
  },
  {
   "cell_type": "code",
   "execution_count": 81,
   "metadata": {},
   "outputs": [
    {
     "name": "stdout",
     "output_type": "stream",
     "text": [
      "learning_rate's best value: 0.01\n",
      "max_depth's best value: 3\n",
      "min_child_weight's best value: 1\n",
      "gamma's best value: 0.7\n",
      "subsample's best value: 0.8\n",
      "colsample_bytree's best value: 0.8\n",
      "reg_alpha's best value: 1e-05\n",
      "learning_rate's best value: 0.01\n"
     ]
    }
   ],
   "source": [
    "if allow_tuning:\n",
    "    params_xgb = {'n_estimators': [1000],\n",
    "                  'learning_rate': [0.1],\n",
    "                  'max_depth': [5],\n",
    "                  'min_child_weight': [1],\n",
    "                  'gamma': [0],\n",
    "                  'subsample': [0.8],\n",
    "                  'colsample_bytree': [0.8],\n",
    "                  'n_jobs': [-1],\n",
    "                  'objective': ['binary:logistic'],\n",
    "                  'use_label_encoder': [False],\n",
    "                  'eval_metric': ['logloss'],\n",
    "                  'scale_pos_weight': [1]}\n",
    "\n",
    "    search_xgb, params_xgb = xgb_gridsearch(params_xgb, ['learning_rate'], [[0.01, 0.02, 0.03, 0.04, 0.05, 0.06, 0.07, 0.08, 0.09, 0.1, 0.15, 0.2]])\n",
    "    search_xgb, params_xgb = xgb_gridsearch(params_xgb, ['max_depth', 'min_child_weight'], [range(3, 10), range(1, 6)])\n",
    "    search_xgb, params_xgb = xgb_gridsearch(params_xgb, ['gamma'], [[0, 0.1, 0.2, 0.3, 0.4, 0.5, 0.6, 0.7, 0.8, 0.9, 1, 2]])\n",
    "    search_xgb, params_xgb = xgb_gridsearch(params_xgb, ['subsample', 'colsample_bytree'], [[i/100.0 for i in range(75,90,5)], [i/100.0 for i in range(75,90,5)]])\n",
    "    search_xgb, params_xgb = xgb_gridsearch(params_xgb, ['reg_alpha'], [[1e-5, 1e-2, 0.1, 1, 100]])\n",
    "    params_xgb['n_estimators'] = [5000]\n",
    "    search_xgb, params_xgb = xgb_gridsearch(params_xgb, ['learning_rate'], [[0.001, 0.005, 0.01, 0.02, 0.03, 0.04, 0.05, 0.06, 0.07, 0.08, 0.09, 0.1, 0.15, 0.2]], last=True)\n",
    "\n",
    "    model_xgb = XGBClassifier(**params_xgb)\n",
    "    model_xgb = model_xgb.fit(x_train, y_tmp_train, eval_set=[(x_test, y_tmp_test)], eval_metric=['logloss'], early_stopping_rounds=15, verbose=0)\n",
    "    params_xgb['n_estimators'] = model_xgb.best_iteration"
   ]
  },
  {
   "cell_type": "markdown",
   "metadata": {},
   "source": [
    "each models"
   ]
  },
  {
   "cell_type": "code",
   "execution_count": 211,
   "metadata": {},
   "outputs": [],
   "source": [
    "if allow_tuning:\n",
    "    model_knn = search_knn.best_estimator_\n",
    "    model_logistic = search_logistic.best_estimator_\n",
    "    model_svc = search_svc.best_estimator_\n",
    "    model_rf = search_rf.best_estimator_\n",
    "    model_xgb = XGBClassifier(**params_xgb)\n",
    "else:\n",
    "    model_knn = knn(algorithm='ball_tree', \n",
    "                    n_neighbors=7,\n",
    "                    p=2, \n",
    "                    weights='uniform')\n",
    "    model_logistic = LogisticRegression(C=4.281332398719396,\n",
    "                                        max_iter=2000, \n",
    "                                        penalty='l1', \n",
    "                                        solver='liblinear')\n",
    "    model_svc = SVC(C=100,\n",
    "                    gamma=0.01,\n",
    "                    kernel='rbf',\n",
    "                    probability=True)\n",
    "    model_rf = RandomForestClassifier(bootstrap=True,\n",
    "                                      criterion='entropy',\n",
    "                                      max_depth=10,\n",
    "                                      max_features=10,\n",
    "                                      min_samples_leaf=3,\n",
    "                                      min_samples_split=3,\n",
    "                                      n_estimators=100)\n",
    "    model_xgb = XGBClassifier(learning_rate=0.01,\n",
    "                              max_depth=3,\n",
    "                              min_child_weight=1,\n",
    "                              gamma=0.7,\n",
    "                              subsample=0.8,\n",
    "                              colsample_bytree=0.8,\n",
    "                              reg_alpha=1e-05)\n",
    "models = {\n",
    "    'knn': model_knn,\n",
    "    'logistic': model_logistic,\n",
    "    'svc': model_svc,\n",
    "    'rf': model_rf,\n",
    "    'xgb': model_xgb\n",
    "}"
   ]
  },
  {
   "cell_type": "markdown",
   "metadata": {},
   "source": [
    "voting models"
   ]
  },
  {
   "cell_type": "code",
   "execution_count": 212,
   "metadata": {},
   "outputs": [],
   "source": [
    "import copy\n",
    "\n",
    "def select_models(start, cnt, goal, estimators, voting):\n",
    "    if cnt == goal:\n",
    "        estimators_copy = copy.deepcopy(estimators)\n",
    "        voting_name = f'{voting}_' + '_'.join([i[0] for i in list(estimators_copy)])\n",
    "        models[voting_name] = VotingClassifier(estimators=estimators_copy, voting=voting)\n",
    "        return\n",
    "    for i in range(start, 5):\n",
    "        estimators.append(list(models.items())[i])\n",
    "        select_models(i + 1, cnt + 1, goal, estimators, voting)\n",
    "        estimators.pop()\n",
    "        "
   ]
  },
  {
   "cell_type": "code",
   "execution_count": 213,
   "metadata": {},
   "outputs": [],
   "source": [
    "select_models(0, 0, 3, [], 'hard')\n",
    "select_models(0, 0, 4, [], 'hard')\n",
    "select_models(0, 0, 5, [], 'hard')\n",
    "\n",
    "select_models(0, 0, 3, [], 'soft')\n",
    "select_models(0, 0, 4, [], 'soft')\n",
    "select_models(0, 0, 5, [], 'soft')"
   ]
  },
  {
   "cell_type": "markdown",
   "metadata": {},
   "source": [
    "cross validation scores"
   ]
  },
  {
   "cell_type": "code",
   "execution_count": 221,
   "metadata": {},
   "outputs": [],
   "source": [
    "result_by_model = pd.DataFrame({'model name': models.keys(), 'model': models.values(), 'score': 0})"
   ]
  },
  {
   "cell_type": "code",
   "execution_count": 222,
   "metadata": {},
   "outputs": [],
   "source": [
    "for name, model in models.items():\n",
    "    result_by_model.loc[result_by_model['model name'] == name, 'score'] = cross_val_score(model, X_train,y_train,cv=5).mean()"
   ]
  },
  {
   "cell_type": "code",
   "execution_count": 232,
   "metadata": {},
   "outputs": [
    {
     "data": {
      "text/html": [
       "<div>\n",
       "<style scoped>\n",
       "    .dataframe tbody tr th:only-of-type {\n",
       "        vertical-align: middle;\n",
       "    }\n",
       "\n",
       "    .dataframe tbody tr th {\n",
       "        vertical-align: top;\n",
       "    }\n",
       "\n",
       "    .dataframe thead th {\n",
       "        text-align: right;\n",
       "    }\n",
       "</style>\n",
       "<table border=\"1\" class=\"dataframe\">\n",
       "  <thead>\n",
       "    <tr style=\"text-align: right;\">\n",
       "      <th></th>\n",
       "      <th>model name</th>\n",
       "      <th>models</th>\n",
       "      <th>score</th>\n",
       "    </tr>\n",
       "  </thead>\n",
       "  <tbody>\n",
       "    <tr>\n",
       "      <th>18</th>\n",
       "      <td>hard_knn_svc_rf_xgb</td>\n",
       "      <td>VotingClassifier(estimators=[('knn',\\n        ...</td>\n",
       "      <td>0.843990</td>\n",
       "    </tr>\n",
       "    <tr>\n",
       "      <th>26</th>\n",
       "      <td>soft_knn_rf_xgb</td>\n",
       "      <td>VotingClassifier(estimators=[('knn',\\n        ...</td>\n",
       "      <td>0.840625</td>\n",
       "    </tr>\n",
       "    <tr>\n",
       "      <th>15</th>\n",
       "      <td>hard_knn_logistic_svc_rf</td>\n",
       "      <td>VotingClassifier(estimators=[('knn',\\n        ...</td>\n",
       "      <td>0.840619</td>\n",
       "    </tr>\n",
       "    <tr>\n",
       "      <th>8</th>\n",
       "      <td>hard_knn_svc_rf</td>\n",
       "      <td>VotingClassifier(estimators=[('knn',\\n        ...</td>\n",
       "      <td>0.840606</td>\n",
       "    </tr>\n",
       "    <tr>\n",
       "      <th>17</th>\n",
       "      <td>hard_knn_logistic_rf_xgb</td>\n",
       "      <td>VotingClassifier(estimators=[('knn',\\n        ...</td>\n",
       "      <td>0.839508</td>\n",
       "    </tr>\n",
       "    <tr>\n",
       "      <th>6</th>\n",
       "      <td>hard_knn_logistic_rf</td>\n",
       "      <td>VotingClassifier(estimators=[('knn',\\n        ...</td>\n",
       "      <td>0.839502</td>\n",
       "    </tr>\n",
       "    <tr>\n",
       "      <th>35</th>\n",
       "      <td>soft_logistic_svc_rf_xgb</td>\n",
       "      <td>VotingClassifier(estimators=[('logistic',\\n   ...</td>\n",
       "      <td>0.839489</td>\n",
       "    </tr>\n",
       "    <tr>\n",
       "      <th>22</th>\n",
       "      <td>soft_knn_logistic_rf</td>\n",
       "      <td>VotingClassifier(estimators=[('knn',\\n        ...</td>\n",
       "      <td>0.838378</td>\n",
       "    </tr>\n",
       "    <tr>\n",
       "      <th>27</th>\n",
       "      <td>soft_logistic_svc_rf</td>\n",
       "      <td>VotingClassifier(estimators=[('logistic',\\n   ...</td>\n",
       "      <td>0.838365</td>\n",
       "    </tr>\n",
       "    <tr>\n",
       "      <th>24</th>\n",
       "      <td>soft_knn_svc_rf</td>\n",
       "      <td>VotingClassifier(estimators=[('knn',\\n        ...</td>\n",
       "      <td>0.838365</td>\n",
       "    </tr>\n",
       "    <tr>\n",
       "      <th>30</th>\n",
       "      <td>soft_svc_rf_xgb</td>\n",
       "      <td>VotingClassifier(estimators=[('svc', SVC(C=100...</td>\n",
       "      <td>0.838359</td>\n",
       "    </tr>\n",
       "    <tr>\n",
       "      <th>19</th>\n",
       "      <td>hard_logistic_svc_rf_xgb</td>\n",
       "      <td>VotingClassifier(estimators=[('logistic',\\n   ...</td>\n",
       "      <td>0.837261</td>\n",
       "    </tr>\n",
       "    <tr>\n",
       "      <th>33</th>\n",
       "      <td>soft_knn_logistic_rf_xgb</td>\n",
       "      <td>VotingClassifier(estimators=[('knn',\\n        ...</td>\n",
       "      <td>0.837254</td>\n",
       "    </tr>\n",
       "    <tr>\n",
       "      <th>32</th>\n",
       "      <td>soft_knn_logistic_svc_xgb</td>\n",
       "      <td>VotingClassifier(estimators=[('knn',\\n        ...</td>\n",
       "      <td>0.837248</td>\n",
       "    </tr>\n",
       "    <tr>\n",
       "      <th>34</th>\n",
       "      <td>soft_knn_svc_rf_xgb</td>\n",
       "      <td>VotingClassifier(estimators=[('knn',\\n        ...</td>\n",
       "      <td>0.837242</td>\n",
       "    </tr>\n",
       "    <tr>\n",
       "      <th>25</th>\n",
       "      <td>soft_knn_svc_xgb</td>\n",
       "      <td>VotingClassifier(estimators=[('knn',\\n        ...</td>\n",
       "      <td>0.836118</td>\n",
       "    </tr>\n",
       "    <tr>\n",
       "      <th>36</th>\n",
       "      <td>soft_knn_logistic_svc_rf_xgb</td>\n",
       "      <td>VotingClassifier(estimators=[('knn',\\n        ...</td>\n",
       "      <td>0.836118</td>\n",
       "    </tr>\n",
       "    <tr>\n",
       "      <th>10</th>\n",
       "      <td>hard_knn_rf_xgb</td>\n",
       "      <td>VotingClassifier(estimators=[('knn',\\n        ...</td>\n",
       "      <td>0.835020</td>\n",
       "    </tr>\n",
       "    <tr>\n",
       "      <th>16</th>\n",
       "      <td>hard_knn_logistic_svc_xgb</td>\n",
       "      <td>VotingClassifier(estimators=[('knn',\\n        ...</td>\n",
       "      <td>0.835007</td>\n",
       "    </tr>\n",
       "    <tr>\n",
       "      <th>11</th>\n",
       "      <td>hard_logistic_svc_rf</td>\n",
       "      <td>VotingClassifier(estimators=[('logistic',\\n   ...</td>\n",
       "      <td>0.835007</td>\n",
       "    </tr>\n",
       "    <tr>\n",
       "      <th>9</th>\n",
       "      <td>hard_knn_svc_xgb</td>\n",
       "      <td>VotingClassifier(estimators=[('knn',\\n        ...</td>\n",
       "      <td>0.835007</td>\n",
       "    </tr>\n",
       "    <tr>\n",
       "      <th>28</th>\n",
       "      <td>soft_logistic_svc_xgb</td>\n",
       "      <td>VotingClassifier(estimators=[('logistic',\\n   ...</td>\n",
       "      <td>0.835001</td>\n",
       "    </tr>\n",
       "    <tr>\n",
       "      <th>31</th>\n",
       "      <td>soft_knn_logistic_svc_rf</td>\n",
       "      <td>VotingClassifier(estimators=[('knn',\\n        ...</td>\n",
       "      <td>0.834995</td>\n",
       "    </tr>\n",
       "    <tr>\n",
       "      <th>14</th>\n",
       "      <td>hard_svc_rf_xgb</td>\n",
       "      <td>VotingClassifier(estimators=[('svc', SVC(C=100...</td>\n",
       "      <td>0.833896</td>\n",
       "    </tr>\n",
       "    <tr>\n",
       "      <th>20</th>\n",
       "      <td>hard_knn_logistic_svc_rf_xgb</td>\n",
       "      <td>VotingClassifier(estimators=[('knn',\\n        ...</td>\n",
       "      <td>0.833884</td>\n",
       "    </tr>\n",
       "    <tr>\n",
       "      <th>7</th>\n",
       "      <td>hard_knn_logistic_xgb</td>\n",
       "      <td>VotingClassifier(estimators=[('knn',\\n        ...</td>\n",
       "      <td>0.833884</td>\n",
       "    </tr>\n",
       "    <tr>\n",
       "      <th>2</th>\n",
       "      <td>svc</td>\n",
       "      <td>SVC(C=100, gamma=0.01, probability=True)</td>\n",
       "      <td>0.833884</td>\n",
       "    </tr>\n",
       "    <tr>\n",
       "      <th>21</th>\n",
       "      <td>soft_knn_logistic_svc</td>\n",
       "      <td>VotingClassifier(estimators=[('knn',\\n        ...</td>\n",
       "      <td>0.833871</td>\n",
       "    </tr>\n",
       "    <tr>\n",
       "      <th>12</th>\n",
       "      <td>hard_logistic_svc_xgb</td>\n",
       "      <td>VotingClassifier(estimators=[('logistic',\\n   ...</td>\n",
       "      <td>0.832779</td>\n",
       "    </tr>\n",
       "    <tr>\n",
       "      <th>13</th>\n",
       "      <td>hard_logistic_rf_xgb</td>\n",
       "      <td>VotingClassifier(estimators=[('logistic',\\n   ...</td>\n",
       "      <td>0.831649</td>\n",
       "    </tr>\n",
       "    <tr>\n",
       "      <th>5</th>\n",
       "      <td>hard_knn_logistic_svc</td>\n",
       "      <td>VotingClassifier(estimators=[('knn',\\n        ...</td>\n",
       "      <td>0.831643</td>\n",
       "    </tr>\n",
       "    <tr>\n",
       "      <th>3</th>\n",
       "      <td>rf</td>\n",
       "      <td>(DecisionTreeClassifier(criterion='entropy', m...</td>\n",
       "      <td>0.830550</td>\n",
       "    </tr>\n",
       "    <tr>\n",
       "      <th>4</th>\n",
       "      <td>xgb</td>\n",
       "      <td>XGBClassifier(base_score=None, booster=None, c...</td>\n",
       "      <td>0.828284</td>\n",
       "    </tr>\n",
       "    <tr>\n",
       "      <th>23</th>\n",
       "      <td>soft_knn_logistic_xgb</td>\n",
       "      <td>VotingClassifier(estimators=[('knn',\\n        ...</td>\n",
       "      <td>0.828272</td>\n",
       "    </tr>\n",
       "    <tr>\n",
       "      <th>29</th>\n",
       "      <td>soft_logistic_rf_xgb</td>\n",
       "      <td>VotingClassifier(estimators=[('logistic',\\n   ...</td>\n",
       "      <td>0.827161</td>\n",
       "    </tr>\n",
       "    <tr>\n",
       "      <th>0</th>\n",
       "      <td>knn</td>\n",
       "      <td>KNeighborsClassifier(algorithm='ball_tree', n_...</td>\n",
       "      <td>0.824933</td>\n",
       "    </tr>\n",
       "    <tr>\n",
       "      <th>1</th>\n",
       "      <td>logistic</td>\n",
       "      <td>LogisticRegression(C=4.281332398719396, max_it...</td>\n",
       "      <td>0.822673</td>\n",
       "    </tr>\n",
       "  </tbody>\n",
       "</table>\n",
       "</div>"
      ],
      "text/plain": [
       "                      model name  \\\n",
       "18           hard_knn_svc_rf_xgb   \n",
       "26               soft_knn_rf_xgb   \n",
       "15      hard_knn_logistic_svc_rf   \n",
       "8                hard_knn_svc_rf   \n",
       "17      hard_knn_logistic_rf_xgb   \n",
       "6           hard_knn_logistic_rf   \n",
       "35      soft_logistic_svc_rf_xgb   \n",
       "22          soft_knn_logistic_rf   \n",
       "27          soft_logistic_svc_rf   \n",
       "24               soft_knn_svc_rf   \n",
       "30               soft_svc_rf_xgb   \n",
       "19      hard_logistic_svc_rf_xgb   \n",
       "33      soft_knn_logistic_rf_xgb   \n",
       "32     soft_knn_logistic_svc_xgb   \n",
       "34           soft_knn_svc_rf_xgb   \n",
       "25              soft_knn_svc_xgb   \n",
       "36  soft_knn_logistic_svc_rf_xgb   \n",
       "10               hard_knn_rf_xgb   \n",
       "16     hard_knn_logistic_svc_xgb   \n",
       "11          hard_logistic_svc_rf   \n",
       "9               hard_knn_svc_xgb   \n",
       "28         soft_logistic_svc_xgb   \n",
       "31      soft_knn_logistic_svc_rf   \n",
       "14               hard_svc_rf_xgb   \n",
       "20  hard_knn_logistic_svc_rf_xgb   \n",
       "7          hard_knn_logistic_xgb   \n",
       "2                            svc   \n",
       "21         soft_knn_logistic_svc   \n",
       "12         hard_logistic_svc_xgb   \n",
       "13          hard_logistic_rf_xgb   \n",
       "5          hard_knn_logistic_svc   \n",
       "3                             rf   \n",
       "4                            xgb   \n",
       "23         soft_knn_logistic_xgb   \n",
       "29          soft_logistic_rf_xgb   \n",
       "0                            knn   \n",
       "1                       logistic   \n",
       "\n",
       "                                               models     score  \n",
       "18  VotingClassifier(estimators=[('knn',\\n        ...  0.843990  \n",
       "26  VotingClassifier(estimators=[('knn',\\n        ...  0.840625  \n",
       "15  VotingClassifier(estimators=[('knn',\\n        ...  0.840619  \n",
       "8   VotingClassifier(estimators=[('knn',\\n        ...  0.840606  \n",
       "17  VotingClassifier(estimators=[('knn',\\n        ...  0.839508  \n",
       "6   VotingClassifier(estimators=[('knn',\\n        ...  0.839502  \n",
       "35  VotingClassifier(estimators=[('logistic',\\n   ...  0.839489  \n",
       "22  VotingClassifier(estimators=[('knn',\\n        ...  0.838378  \n",
       "27  VotingClassifier(estimators=[('logistic',\\n   ...  0.838365  \n",
       "24  VotingClassifier(estimators=[('knn',\\n        ...  0.838365  \n",
       "30  VotingClassifier(estimators=[('svc', SVC(C=100...  0.838359  \n",
       "19  VotingClassifier(estimators=[('logistic',\\n   ...  0.837261  \n",
       "33  VotingClassifier(estimators=[('knn',\\n        ...  0.837254  \n",
       "32  VotingClassifier(estimators=[('knn',\\n        ...  0.837248  \n",
       "34  VotingClassifier(estimators=[('knn',\\n        ...  0.837242  \n",
       "25  VotingClassifier(estimators=[('knn',\\n        ...  0.836118  \n",
       "36  VotingClassifier(estimators=[('knn',\\n        ...  0.836118  \n",
       "10  VotingClassifier(estimators=[('knn',\\n        ...  0.835020  \n",
       "16  VotingClassifier(estimators=[('knn',\\n        ...  0.835007  \n",
       "11  VotingClassifier(estimators=[('logistic',\\n   ...  0.835007  \n",
       "9   VotingClassifier(estimators=[('knn',\\n        ...  0.835007  \n",
       "28  VotingClassifier(estimators=[('logistic',\\n   ...  0.835001  \n",
       "31  VotingClassifier(estimators=[('knn',\\n        ...  0.834995  \n",
       "14  VotingClassifier(estimators=[('svc', SVC(C=100...  0.833896  \n",
       "20  VotingClassifier(estimators=[('knn',\\n        ...  0.833884  \n",
       "7   VotingClassifier(estimators=[('knn',\\n        ...  0.833884  \n",
       "2            SVC(C=100, gamma=0.01, probability=True)  0.833884  \n",
       "21  VotingClassifier(estimators=[('knn',\\n        ...  0.833871  \n",
       "12  VotingClassifier(estimators=[('logistic',\\n   ...  0.832779  \n",
       "13  VotingClassifier(estimators=[('logistic',\\n   ...  0.831649  \n",
       "5   VotingClassifier(estimators=[('knn',\\n        ...  0.831643  \n",
       "3   (DecisionTreeClassifier(criterion='entropy', m...  0.830550  \n",
       "4   XGBClassifier(base_score=None, booster=None, c...  0.828284  \n",
       "23  VotingClassifier(estimators=[('knn',\\n        ...  0.828272  \n",
       "29  VotingClassifier(estimators=[('logistic',\\n   ...  0.827161  \n",
       "0   KNeighborsClassifier(algorithm='ball_tree', n_...  0.824933  \n",
       "1   LogisticRegression(C=4.281332398719396, max_it...  0.822673  "
      ]
     },
     "execution_count": 232,
     "metadata": {},
     "output_type": "execute_result"
    }
   ],
   "source": [
    "result_by_model.sort_values('score', ascending=False)"
   ]
  },
  {
   "cell_type": "code",
   "execution_count": 246,
   "metadata": {},
   "outputs": [],
   "source": [
    "models['rf'].fit(X_train, y_train)\n",
    "y_pred = models['rf'].predict(X_test)"
   ]
  },
  {
   "cell_type": "code",
   "execution_count": 247,
   "metadata": {
    "execution": {
     "iopub.status.busy": "2021-11-08T12:34:40.403553Z",
     "iopub.status.idle": "2021-11-08T12:34:40.404410Z",
     "shell.execute_reply": "2021-11-08T12:34:40.404173Z",
     "shell.execute_reply.started": "2021-11-08T12:34:40.404145Z"
    }
   },
   "outputs": [],
   "source": [
    "my_submission = pd.DataFrame({'PassengerId': test.PassengerId, \n",
    "                              'Survived': y_pred})\n",
    "\n",
    "my_submission.to_csv('submission.csv', index = False)"
   ]
  },
  {
   "cell_type": "code",
   "execution_count": null,
   "metadata": {},
   "outputs": [],
   "source": []
  },
  {
   "cell_type": "code",
   "execution_count": null,
   "metadata": {},
   "outputs": [],
   "source": []
  },
  {
   "cell_type": "code",
   "execution_count": null,
   "metadata": {},
   "outputs": [],
   "source": []
  },
  {
   "cell_type": "code",
   "execution_count": null,
   "metadata": {},
   "outputs": [],
   "source": []
  },
  {
   "cell_type": "code",
   "execution_count": null,
   "metadata": {},
   "outputs": [],
   "source": []
  },
  {
   "cell_type": "code",
   "execution_count": null,
   "metadata": {},
   "outputs": [],
   "source": []
  },
  {
   "cell_type": "code",
   "execution_count": null,
   "metadata": {},
   "outputs": [],
   "source": []
  },
  {
   "cell_type": "code",
   "execution_count": null,
   "metadata": {},
   "outputs": [],
   "source": []
  },
  {
   "cell_type": "code",
   "execution_count": null,
   "metadata": {},
   "outputs": [],
   "source": []
  },
  {
   "cell_type": "code",
   "execution_count": null,
   "metadata": {},
   "outputs": [],
   "source": []
  },
  {
   "cell_type": "code",
   "execution_count": null,
   "metadata": {},
   "outputs": [],
   "source": []
  },
  {
   "cell_type": "code",
   "execution_count": null,
   "metadata": {},
   "outputs": [],
   "source": []
  },
  {
   "cell_type": "code",
   "execution_count": null,
   "metadata": {},
   "outputs": [],
   "source": []
  },
  {
   "cell_type": "code",
   "execution_count": null,
   "metadata": {},
   "outputs": [],
   "source": []
  },
  {
   "cell_type": "code",
   "execution_count": null,
   "metadata": {},
   "outputs": [],
   "source": []
  },
  {
   "cell_type": "code",
   "execution_count": null,
   "metadata": {},
   "outputs": [],
   "source": []
  },
  {
   "cell_type": "code",
   "execution_count": null,
   "metadata": {},
   "outputs": [],
   "source": []
  },
  {
   "cell_type": "code",
   "execution_count": null,
   "metadata": {},
   "outputs": [],
   "source": []
  },
  {
   "cell_type": "code",
   "execution_count": null,
   "metadata": {},
   "outputs": [],
   "source": []
  },
  {
   "cell_type": "code",
   "execution_count": null,
   "metadata": {},
   "outputs": [],
   "source": []
  },
  {
   "cell_type": "code",
   "execution_count": null,
   "metadata": {},
   "outputs": [],
   "source": []
  },
  {
   "cell_type": "code",
   "execution_count": null,
   "metadata": {},
   "outputs": [],
   "source": []
  },
  {
   "cell_type": "code",
   "execution_count": null,
   "metadata": {},
   "outputs": [],
   "source": []
  },
  {
   "cell_type": "code",
   "execution_count": null,
   "metadata": {},
   "outputs": [],
   "source": []
  },
  {
   "cell_type": "code",
   "execution_count": null,
   "metadata": {},
   "outputs": [],
   "source": []
  },
  {
   "cell_type": "code",
   "execution_count": null,
   "metadata": {},
   "outputs": [],
   "source": []
  },
  {
   "cell_type": "code",
   "execution_count": null,
   "metadata": {},
   "outputs": [],
   "source": []
  },
  {
   "cell_type": "code",
   "execution_count": null,
   "metadata": {},
   "outputs": [],
   "source": []
  },
  {
   "cell_type": "code",
   "execution_count": null,
   "metadata": {},
   "outputs": [],
   "source": []
  },
  {
   "cell_type": "code",
   "execution_count": null,
   "metadata": {},
   "outputs": [],
   "source": []
  },
  {
   "cell_type": "code",
   "execution_count": null,
   "metadata": {},
   "outputs": [],
   "source": []
  },
  {
   "cell_type": "code",
   "execution_count": null,
   "metadata": {},
   "outputs": [],
   "source": []
  },
  {
   "cell_type": "code",
   "execution_count": null,
   "metadata": {},
   "outputs": [],
   "source": []
  },
  {
   "cell_type": "code",
   "execution_count": null,
   "metadata": {},
   "outputs": [],
   "source": []
  },
  {
   "cell_type": "code",
   "execution_count": null,
   "metadata": {},
   "outputs": [],
   "source": []
  },
  {
   "cell_type": "code",
   "execution_count": null,
   "metadata": {},
   "outputs": [],
   "source": []
  },
  {
   "cell_type": "code",
   "execution_count": null,
   "metadata": {},
   "outputs": [],
   "source": []
  },
  {
   "cell_type": "code",
   "execution_count": null,
   "metadata": {},
   "outputs": [],
   "source": []
  },
  {
   "cell_type": "code",
   "execution_count": null,
   "metadata": {},
   "outputs": [],
   "source": []
  },
  {
   "cell_type": "code",
   "execution_count": null,
   "metadata": {},
   "outputs": [],
   "source": []
  },
  {
   "cell_type": "code",
   "execution_count": null,
   "metadata": {},
   "outputs": [],
   "source": []
  },
  {
   "cell_type": "code",
   "execution_count": null,
   "metadata": {},
   "outputs": [],
   "source": []
  },
  {
   "cell_type": "code",
   "execution_count": null,
   "metadata": {},
   "outputs": [],
   "source": []
  },
  {
   "cell_type": "code",
   "execution_count": null,
   "metadata": {},
   "outputs": [],
   "source": []
  },
  {
   "cell_type": "code",
   "execution_count": null,
   "metadata": {},
   "outputs": [],
   "source": []
  },
  {
   "cell_type": "code",
   "execution_count": null,
   "metadata": {},
   "outputs": [],
   "source": []
  },
  {
   "cell_type": "code",
   "execution_count": null,
   "metadata": {},
   "outputs": [],
   "source": []
  },
  {
   "cell_type": "code",
   "execution_count": null,
   "metadata": {},
   "outputs": [],
   "source": []
  },
  {
   "cell_type": "code",
   "execution_count": null,
   "metadata": {},
   "outputs": [],
   "source": []
  },
  {
   "cell_type": "code",
   "execution_count": null,
   "metadata": {},
   "outputs": [],
   "source": []
  }
 ],
 "metadata": {
  "hide_input": false,
  "kernelspec": {
   "display_name": "Python 3",
   "language": "python",
   "name": "python3"
  },
  "language_info": {
   "codemirror_mode": {
    "name": "ipython",
    "version": 3
   },
   "file_extension": ".py",
   "mimetype": "text/x-python",
   "name": "python",
   "nbconvert_exporter": "python",
   "pygments_lexer": "ipython3",
   "version": "3.8.8"
  }
 },
 "nbformat": 4,
 "nbformat_minor": 4
}
