{
 "cells": [
  {
   "cell_type": "markdown",
   "metadata": {},
   "source": [
    "# Titanic Project Example Walk Through \n",
    "In this notebook, I hope to show how a data scientist would go about working through a problem. The goal is to correctly predict if someone survived the Titanic shipwreck. I thought it would be fun to see how well I could do in this competition without deep learning. \n",
    "\n",
    "*The accompanying video is located here:* https://www.youtube.com/watch?v=I3FBJdiExcg\n",
    "\n",
    "**Best results : 79.425 % accuracy (Top 12%)**\n",
    "\n",
    "## Overview \n",
    "### 1) Understand the shape of the data (Histograms, box plots, etc.)\n",
    "\n",
    "### 2) Data Cleaning \n",
    "\n",
    "### 3) Data Exploration\n",
    "\n",
    "### 4) Feature Engineering \n",
    "\n",
    "### 5) Data Preprocessing for Model\n",
    "\n",
    "### 6) Basic Model Building \n",
    "\n",
    "### 7) Model Tuning \n",
    "\n",
    "### 8) Ensemble Modle Building \n",
    "\n",
    "### 9) Results "
   ]
  },
  {
   "cell_type": "code",
   "execution_count": 1,
   "metadata": {
    "_cell_guid": "b1076dfc-b9ad-4769-8c92-a6c4dae69d19",
    "_uuid": "8f2839f25d086af736a60e9eeb907d3b93b6e0e5",
    "execution": {
     "iopub.execute_input": "2021-11-08T08:23:03.948942Z",
     "iopub.status.busy": "2021-11-08T08:23:03.94857Z",
     "iopub.status.idle": "2021-11-08T08:23:04.762117Z",
     "shell.execute_reply": "2021-11-08T08:23:04.760673Z",
     "shell.execute_reply.started": "2021-11-08T08:23:03.948911Z"
    }
   },
   "outputs": [],
   "source": [
    "# This Python 3 environment comes with many helpful analytics libraries installed\n",
    "# It is defined by the kaggle/python Docker image: https://github.com/kaggle/docker-python\n",
    "# For example, here's several helpful packages to load\n",
    "\n",
    "import numpy as np # linear algebra\n",
    "import pandas as pd # data processing, CSV file I/O (e.g. pd.read_csv)\n",
    "import seaborn as sns \n",
    "import matplotlib.pyplot as plt\n",
    "# Input data files are available in the read-only \"../input/\" directory\n",
    "# For example, running this (by clicking run or pressing Shift+Enter) will list all files under the input directory\n",
    "\n",
    "# import os\n",
    "# for dirname, _, filenames in os.walk('/kaggle/input'):\n",
    "#     for filename in filenames:\n",
    "#         print(os.path.join(dirname, filename))\n",
    "        \n",
    "        \n",
    "# You can write up to 5GB to the current directory (/kaggle/working/) that gets preserved as output when you create a version using \"Save & Run All\" \n",
    "# You can also write temporary files to /kaggle/temp/, but they won't be saved outside of the current session"
   ]
  },
  {
   "cell_type": "markdown",
   "metadata": {},
   "source": [
    "Here we import the data. For this analysis, we will be exclusively working with the Training set. We will be validating based on data from the training set as well. For our final submissions, we will make predictions based on the test set. "
   ]
  },
  {
   "cell_type": "code",
   "execution_count": 2,
   "metadata": {
    "execution": {
     "iopub.execute_input": "2021-11-08T08:23:04.764277Z",
     "iopub.status.busy": "2021-11-08T08:23:04.76393Z",
     "iopub.status.idle": "2021-11-08T08:23:04.824903Z",
     "shell.execute_reply": "2021-11-08T08:23:04.824079Z",
     "shell.execute_reply.started": "2021-11-08T08:23:04.764239Z"
    }
   },
   "outputs": [
    {
     "data": {
      "text/plain": [
       "Index(['PassengerId', 'Survived', 'Pclass', 'Name', 'Sex', 'Age', 'SibSp',\n",
       "       'Parch', 'Ticket', 'Fare', 'Cabin', 'Embarked', 'train_test'],\n",
       "      dtype='object')"
      ]
     },
     "execution_count": 2,
     "metadata": {},
     "output_type": "execute_result"
    }
   ],
   "source": [
    "training = pd.read_csv('train.csv')\n",
    "test = pd.read_csv('test.csv')\n",
    "\n",
    "training['train_test'] = 1\n",
    "test['train_test'] = 0\n",
    "test['Survived'] = np.NaN\n",
    "all_data = pd.concat([training,test])\n",
    "\n",
    "%matplotlib inline\n",
    "all_data.columns"
   ]
  },
  {
   "cell_type": "markdown",
   "metadata": {},
   "source": [
    "## Project Planning\n",
    "When starting any project, I like to outline the steps that I plan to take. Below is the rough outline that I created for this project using commented cells. "
   ]
  },
  {
   "cell_type": "code",
   "execution_count": null,
   "metadata": {
    "execution": {
     "iopub.execute_input": "2021-11-08T08:23:04.827109Z",
     "iopub.status.busy": "2021-11-08T08:23:04.826425Z",
     "iopub.status.idle": "2021-11-08T08:23:04.832758Z",
     "shell.execute_reply": "2021-11-08T08:23:04.831761Z",
     "shell.execute_reply.started": "2021-11-08T08:23:04.827059Z"
    }
   },
   "outputs": [],
   "source": [
    "# Understand nature of the data .info() .describe()\n",
    "# Histograms and boxplots \n",
    "# Value counts \n",
    "# Missing data \n",
    "# Correlation between the metrics \n",
    "# Explore interesting themes \n",
    "    # Wealthy survive? \n",
    "    # By location \n",
    "    # Age scatterplot with ticket price \n",
    "    # Young and wealthy Variable? \n",
    "    # Total spent? \n",
    "# Feature engineering \n",
    "# preprocess data together or use a transformer? \n",
    "    # use label for train and test   \n",
    "# Scaling?\n",
    "\n",
    "# Model Baseline \n",
    "# Model comparison with CV "
   ]
  },
  {
   "cell_type": "markdown",
   "metadata": {},
   "source": [
    "## Light Data Exploration\n",
    "### 1) For numeric data \n",
    "* Made histograms to understand distributions \n",
    "* Corrplot \n",
    "* Pivot table comparing survival rate across numeric variables \n",
    "\n",
    "\n",
    "### 2) For Categorical Data \n",
    "* Made bar charts to understand balance of classes \n",
    "* Made pivot tables to understand relationship with survival "
   ]
  },
  {
   "cell_type": "code",
   "execution_count": null,
   "metadata": {
    "execution": {
     "iopub.execute_input": "2021-11-08T08:23:04.834526Z",
     "iopub.status.busy": "2021-11-08T08:23:04.834135Z",
     "iopub.status.idle": "2021-11-08T08:23:04.862664Z",
     "shell.execute_reply": "2021-11-08T08:23:04.861326Z",
     "shell.execute_reply.started": "2021-11-08T08:23:04.834489Z"
    }
   },
   "outputs": [],
   "source": [
    "#quick look at our data types & null counts \n",
    "training.info()"
   ]
  },
  {
   "cell_type": "code",
   "execution_count": null,
   "metadata": {
    "execution": {
     "iopub.execute_input": "2021-11-08T08:23:04.868094Z",
     "iopub.status.busy": "2021-11-08T08:23:04.867473Z",
     "iopub.status.idle": "2021-11-08T08:23:04.915678Z",
     "shell.execute_reply": "2021-11-08T08:23:04.914322Z",
     "shell.execute_reply.started": "2021-11-08T08:23:04.868042Z"
    }
   },
   "outputs": [],
   "source": [
    "# to better understand the numeric data, we want to use the .describe() method. This gives us an understanding of the central tendencies of the data \n",
    "training.describe()"
   ]
  },
  {
   "cell_type": "code",
   "execution_count": null,
   "metadata": {
    "execution": {
     "iopub.execute_input": "2021-11-08T08:23:04.918915Z",
     "iopub.status.busy": "2021-11-08T08:23:04.918607Z",
     "iopub.status.idle": "2021-11-08T08:23:04.951103Z",
     "shell.execute_reply": "2021-11-08T08:23:04.950232Z",
     "shell.execute_reply.started": "2021-11-08T08:23:04.918884Z"
    }
   },
   "outputs": [],
   "source": [
    "#quick way to separate numeric columns\n",
    "training.describe().columns"
   ]
  },
  {
   "cell_type": "code",
   "execution_count": null,
   "metadata": {
    "execution": {
     "iopub.execute_input": "2021-11-08T08:23:04.953295Z",
     "iopub.status.busy": "2021-11-08T08:23:04.952748Z",
     "iopub.status.idle": "2021-11-08T08:23:04.961111Z",
     "shell.execute_reply": "2021-11-08T08:23:04.960134Z",
     "shell.execute_reply.started": "2021-11-08T08:23:04.953227Z"
    }
   },
   "outputs": [],
   "source": [
    "# look at numeric and categorical values separately \n",
    "df_num = training[['Age','SibSp','Parch','Fare']]\n",
    "df_cat = training[['Survived','Pclass','Sex','Ticket','Cabin','Embarked']]"
   ]
  },
  {
   "cell_type": "code",
   "execution_count": null,
   "metadata": {
    "execution": {
     "iopub.execute_input": "2021-11-08T08:23:04.963044Z",
     "iopub.status.busy": "2021-11-08T08:23:04.962717Z",
     "iopub.status.idle": "2021-11-08T08:23:05.856613Z",
     "shell.execute_reply": "2021-11-08T08:23:05.855543Z",
     "shell.execute_reply.started": "2021-11-08T08:23:04.962996Z"
    }
   },
   "outputs": [],
   "source": [
    "#distributions for all numeric variables \n",
    "for i in df_num.columns:\n",
    "    plt.hist(df_num[i])\n",
    "    plt.title(i)\n",
    "    plt.show()"
   ]
  },
  {
   "cell_type": "markdown",
   "metadata": {},
   "source": [
    "Perhaps we should take the non-normal distributions and consider normalizing them?"
   ]
  },
  {
   "cell_type": "markdown",
   "metadata": {},
   "source": [
    "\n"
   ]
  },
  {
   "cell_type": "code",
   "execution_count": null,
   "metadata": {
    "execution": {
     "iopub.execute_input": "2021-11-08T08:23:05.858144Z",
     "iopub.status.busy": "2021-11-08T08:23:05.857862Z",
     "iopub.status.idle": "2021-11-08T08:23:06.115305Z",
     "shell.execute_reply": "2021-11-08T08:23:06.114534Z",
     "shell.execute_reply.started": "2021-11-08T08:23:05.858115Z"
    }
   },
   "outputs": [],
   "source": [
    "print(df_num.corr())\n",
    "sns.heatmap(df_num.corr())"
   ]
  },
  {
   "cell_type": "code",
   "execution_count": null,
   "metadata": {
    "execution": {
     "iopub.execute_input": "2021-11-08T08:23:06.117031Z",
     "iopub.status.busy": "2021-11-08T08:23:06.116537Z",
     "iopub.status.idle": "2021-11-08T08:23:06.146236Z",
     "shell.execute_reply": "2021-11-08T08:23:06.145381Z",
     "shell.execute_reply.started": "2021-11-08T08:23:06.11698Z"
    }
   },
   "outputs": [],
   "source": [
    "# compare survival rate across Age, SibSp, Parch, and Fare \n",
    "pd.pivot_table(training, index = 'Survived', values = ['Age','SibSp','Parch','Fare'])"
   ]
  },
  {
   "cell_type": "code",
   "execution_count": null,
   "metadata": {
    "execution": {
     "iopub.execute_input": "2021-11-08T08:23:06.147811Z",
     "iopub.status.busy": "2021-11-08T08:23:06.147519Z",
     "iopub.status.idle": "2021-11-08T08:23:18.576023Z",
     "shell.execute_reply": "2021-11-08T08:23:18.574926Z",
     "shell.execute_reply.started": "2021-11-08T08:23:06.147782Z"
    }
   },
   "outputs": [],
   "source": [
    "for i in df_cat.columns:\n",
    "    sns.barplot(df_cat[i].value_counts().index,df_cat[i].value_counts()).set_title(i)\n",
    "    plt.show()\\\n",
    "    "
   ]
  },
  {
   "cell_type": "markdown",
   "metadata": {},
   "source": [
    "Cabin and ticket graphs are very messy. This is an area where we may want to do some feature engineering! "
   ]
  },
  {
   "cell_type": "code",
   "execution_count": null,
   "metadata": {
    "execution": {
     "iopub.execute_input": "2021-11-08T08:23:18.578239Z",
     "iopub.status.busy": "2021-11-08T08:23:18.577579Z",
     "iopub.status.idle": "2021-11-08T08:23:18.638197Z",
     "shell.execute_reply": "2021-11-08T08:23:18.636422Z",
     "shell.execute_reply.started": "2021-11-08T08:23:18.578164Z"
    }
   },
   "outputs": [],
   "source": [
    "# Comparing survival and each of these categorical variables \n",
    "print(pd.pivot_table(training, index = 'Survived', columns = 'Pclass', values = 'Ticket' ,aggfunc ='count'))\n",
    "print()\n",
    "print(pd.pivot_table(training, index = 'Survived', columns = 'Sex', values = 'Ticket' ,aggfunc ='count'))\n",
    "print()\n",
    "print(pd.pivot_table(training, index = 'Survived', columns = 'Embarked', values = 'Ticket' ,aggfunc ='count'))"
   ]
  },
  {
   "cell_type": "markdown",
   "metadata": {},
   "source": [
    "## Feature Engineering \n",
    "### 1) Cabin - Simplify cabins (evaluated if cabin letter (cabin_adv) or the purchase of tickets across multiple cabins (cabin_multiple) impacted survival)\n",
    "\n",
    "### 2) Tickets - Do different ticket types impact survival rates?\n",
    "\n",
    "### 3) Does a person's title relate to survival rates? "
   ]
  },
  {
   "cell_type": "code",
   "execution_count": null,
   "metadata": {
    "execution": {
     "iopub.execute_input": "2021-11-08T08:23:18.639915Z",
     "iopub.status.busy": "2021-11-08T08:23:18.639578Z",
     "iopub.status.idle": "2021-11-08T08:23:18.65432Z",
     "shell.execute_reply": "2021-11-08T08:23:18.653003Z",
     "shell.execute_reply.started": "2021-11-08T08:23:18.639869Z"
    }
   },
   "outputs": [],
   "source": [
    "df_cat.Cabin\n",
    "training['cabin_multiple'] = training.Cabin.apply(lambda x: 0 if pd.isna(x) else len(x.split(' ')))\n",
    "# after looking at this, we may want to look at cabin by letter or by number. Let's create some categories for this \n",
    "# letters \n",
    "# multiple letters \n",
    "training['cabin_multiple'].value_counts()"
   ]
  },
  {
   "cell_type": "code",
   "execution_count": null,
   "metadata": {
    "execution": {
     "iopub.execute_input": "2021-11-08T08:23:18.6563Z",
     "iopub.status.busy": "2021-11-08T08:23:18.655945Z",
     "iopub.status.idle": "2021-11-08T08:23:18.688451Z",
     "shell.execute_reply": "2021-11-08T08:23:18.686749Z",
     "shell.execute_reply.started": "2021-11-08T08:23:18.656254Z"
    }
   },
   "outputs": [],
   "source": [
    "pd.pivot_table(training, index = 'Survived', columns = 'cabin_multiple', values = 'Ticket' ,aggfunc ='count')"
   ]
  },
  {
   "cell_type": "code",
   "execution_count": null,
   "metadata": {
    "execution": {
     "iopub.execute_input": "2021-11-08T08:23:18.690832Z",
     "iopub.status.busy": "2021-11-08T08:23:18.690225Z",
     "iopub.status.idle": "2021-11-08T08:23:18.700552Z",
     "shell.execute_reply": "2021-11-08T08:23:18.69929Z",
     "shell.execute_reply.started": "2021-11-08T08:23:18.690783Z"
    }
   },
   "outputs": [],
   "source": [
    "#creates categories based on the cabin letter (n stands for null)\n",
    "#in this case we will treat null values like it's own category\n",
    "\n",
    "training['cabin_adv'] = training.Cabin.apply(lambda x: str(x)[0])\n"
   ]
  },
  {
   "cell_type": "code",
   "execution_count": null,
   "metadata": {
    "execution": {
     "iopub.execute_input": "2021-11-08T08:23:18.703243Z",
     "iopub.status.busy": "2021-11-08T08:23:18.702848Z",
     "iopub.status.idle": "2021-11-08T08:23:18.745067Z",
     "shell.execute_reply": "2021-11-08T08:23:18.744081Z",
     "shell.execute_reply.started": "2021-11-08T08:23:18.703173Z"
    }
   },
   "outputs": [],
   "source": [
    "#comparing surivial rate by cabin\n",
    "print(training.cabin_adv.value_counts())\n",
    "pd.pivot_table(training,index='Survived',columns='cabin_adv', values = 'Name', aggfunc='count')"
   ]
  },
  {
   "cell_type": "code",
   "execution_count": null,
   "metadata": {
    "execution": {
     "iopub.execute_input": "2021-11-08T08:23:18.74742Z",
     "iopub.status.busy": "2021-11-08T08:23:18.747061Z",
     "iopub.status.idle": "2021-11-08T08:23:18.759608Z",
     "shell.execute_reply": "2021-11-08T08:23:18.758566Z",
     "shell.execute_reply.started": "2021-11-08T08:23:18.747388Z"
    }
   },
   "outputs": [],
   "source": [
    "#understand ticket values better \n",
    "#numeric vs non numeric \n",
    "training['numeric_ticket'] = training.Ticket.apply(lambda x: 1 if x.isnumeric() else 0)\n",
    "training['ticket_letters'] = training.Ticket.apply(lambda x: ''.join(x.split(' ')[:-1]).replace('.','').replace('/','').lower() if len(x.split(' ')[:-1]) >0 else 0)\n"
   ]
  },
  {
   "cell_type": "code",
   "execution_count": null,
   "metadata": {
    "execution": {
     "iopub.execute_input": "2021-11-08T08:23:18.761755Z",
     "iopub.status.busy": "2021-11-08T08:23:18.761259Z",
     "iopub.status.idle": "2021-11-08T08:23:18.776028Z",
     "shell.execute_reply": "2021-11-08T08:23:18.774859Z",
     "shell.execute_reply.started": "2021-11-08T08:23:18.761718Z"
    }
   },
   "outputs": [],
   "source": [
    "training['numeric_ticket'].value_counts()"
   ]
  },
  {
   "cell_type": "code",
   "execution_count": null,
   "metadata": {
    "execution": {
     "iopub.execute_input": "2021-11-08T08:23:18.77811Z",
     "iopub.status.busy": "2021-11-08T08:23:18.777542Z",
     "iopub.status.idle": "2021-11-08T08:23:18.792068Z",
     "shell.execute_reply": "2021-11-08T08:23:18.790941Z",
     "shell.execute_reply.started": "2021-11-08T08:23:18.778064Z"
    }
   },
   "outputs": [],
   "source": [
    "#lets us view all rows in dataframe through scrolling. This is for convenience \n",
    "pd.set_option(\"max_rows\", None)\n",
    "training['ticket_letters'].value_counts()\n"
   ]
  },
  {
   "cell_type": "code",
   "execution_count": null,
   "metadata": {
    "execution": {
     "iopub.execute_input": "2021-11-08T08:23:18.794714Z",
     "iopub.status.busy": "2021-11-08T08:23:18.793827Z",
     "iopub.status.idle": "2021-11-08T08:23:18.822709Z",
     "shell.execute_reply": "2021-11-08T08:23:18.82146Z",
     "shell.execute_reply.started": "2021-11-08T08:23:18.794657Z"
    }
   },
   "outputs": [],
   "source": [
    "#difference in numeric vs non-numeric tickets in survival rate \n",
    "pd.pivot_table(training,index='Survived',columns='numeric_ticket', values = 'Ticket', aggfunc='count')"
   ]
  },
  {
   "cell_type": "code",
   "execution_count": null,
   "metadata": {
    "execution": {
     "iopub.execute_input": "2021-11-08T08:23:18.825018Z",
     "iopub.status.busy": "2021-11-08T08:23:18.824378Z",
     "iopub.status.idle": "2021-11-08T08:23:18.872731Z",
     "shell.execute_reply": "2021-11-08T08:23:18.871488Z",
     "shell.execute_reply.started": "2021-11-08T08:23:18.824968Z"
    }
   },
   "outputs": [],
   "source": [
    "#survival rate across different tyicket types \n",
    "pd.pivot_table(training,index='Survived',columns='ticket_letters', values = 'Ticket', aggfunc='count')"
   ]
  },
  {
   "cell_type": "code",
   "execution_count": null,
   "metadata": {
    "execution": {
     "iopub.execute_input": "2021-11-08T08:23:18.874868Z",
     "iopub.status.busy": "2021-11-08T08:23:18.874208Z",
     "iopub.status.idle": "2021-11-08T08:23:18.884783Z",
     "shell.execute_reply": "2021-11-08T08:23:18.883661Z",
     "shell.execute_reply.started": "2021-11-08T08:23:18.874818Z"
    }
   },
   "outputs": [],
   "source": [
    "#feature engineering on person's title \n",
    "training.Name.head(50)\n",
    "training['name_title'] = training.Name.apply(lambda x: x.split(',')[1].split('.')[0].strip())\n",
    "#mr., ms., master. etc"
   ]
  },
  {
   "cell_type": "code",
   "execution_count": null,
   "metadata": {
    "execution": {
     "iopub.execute_input": "2021-11-08T08:23:18.88641Z",
     "iopub.status.busy": "2021-11-08T08:23:18.885946Z",
     "iopub.status.idle": "2021-11-08T08:23:18.902921Z",
     "shell.execute_reply": "2021-11-08T08:23:18.901789Z",
     "shell.execute_reply.started": "2021-11-08T08:23:18.886376Z"
    }
   },
   "outputs": [],
   "source": [
    "training['name_title'].value_counts()"
   ]
  },
  {
   "cell_type": "markdown",
   "metadata": {},
   "source": [
    "## Data Preprocessing for Model \n",
    "### 1) Drop null values from Embarked (only 2) \n",
    "\n",
    "### 2) Include only relevant variables (Since we have limited data, I wanted to exclude things like name and passanger ID so that we could have a reasonable number of features for our models to deal with) \n",
    "Variables:  'Pclass', 'Sex','Age', 'SibSp', 'Parch', 'Fare', 'Embarked', 'cabin_adv', 'cabin_multiple', 'numeric_ticket', 'name_title'\n",
    "\n",
    "### 3) Do categorical transforms on all data. Usually we would use a transformer, but with this approach we can ensure that our traning and test data have the same colums. We also may be able to infer something about the shape of the test data through this method. I will stress, this is generally not recommend outside of a competition (use onehot encoder). \n",
    "\n",
    "### 4) Impute data with mean for fare and age (Should also experiment with median) \n",
    "\n",
    "### 5) Normalized fare using logarithm to give more semblance of a normal distribution \n",
    "\n",
    "### 6) Scaled data 0-1 with standard scaler \n"
   ]
  },
  {
   "cell_type": "code",
   "execution_count": null,
   "metadata": {
    "execution": {
     "iopub.execute_input": "2021-11-08T08:23:18.904706Z",
     "iopub.status.busy": "2021-11-08T08:23:18.904162Z",
     "iopub.status.idle": "2021-11-08T08:23:19.199506Z",
     "shell.execute_reply": "2021-11-08T08:23:19.198145Z",
     "shell.execute_reply.started": "2021-11-08T08:23:18.904647Z"
    }
   },
   "outputs": [],
   "source": [
    "#create all categorical variables that we did above for both training and test sets \n",
    "all_data['cabin_multiple'] = all_data.Cabin.apply(lambda x: 0 if pd.isna(x) else len(x.split(' ')))\n",
    "all_data['cabin_adv'] = all_data.Cabin.apply(lambda x: str(x)[0])\n",
    "all_data['numeric_ticket'] = all_data.Ticket.apply(lambda x: 1 if x.isnumeric() else 0)\n",
    "all_data['ticket_letters'] = all_data.Ticket.apply(lambda x: ''.join(x.split(' ')[:-1]).replace('.','').replace('/','').lower() if len(x.split(' ')[:-1]) >0 else 0)\n",
    "all_data['name_title'] = all_data.Name.apply(lambda x: x.split(',')[1].split('.')[0].strip())\n",
    "\n",
    "#impute nulls for continuous data \n",
    "#all_data.Age = all_data.Age.fillna(training.Age.mean())\n",
    "all_data.Age = all_data.Age.fillna(training.Age.median())\n",
    "#all_data.Fare = all_data.Fare.fillna(training.Fare.mean())\n",
    "all_data.Fare = all_data.Fare.fillna(training.Fare.median())\n",
    "\n",
    "#drop null 'embarked' rows. Only 2 instances of this in training and 0 in test \n",
    "all_data.dropna(subset=['Embarked'],inplace = True)\n",
    "\n",
    "#tried log norm of sibsp (not used)\n",
    "all_data['norm_sibsp'] = np.log(all_data.SibSp+1)\n",
    "all_data['norm_sibsp'].hist()\n",
    "\n",
    "# log norm of fare (used)\n",
    "all_data['norm_fare'] = np.log(all_data.Fare+1)\n",
    "all_data['norm_fare'].hist()\n",
    "\n",
    "# converted fare to category for pd.get_dummies()\n",
    "all_data.Pclass = all_data.Pclass.astype(str)\n",
    "\n",
    "#created dummy variables from categories (also can use OneHotEncoder)\n",
    "all_dummies = pd.get_dummies(all_data[['Pclass','Sex','Age','SibSp','Parch','norm_fare','Embarked','cabin_adv','cabin_multiple','numeric_ticket','name_title','train_test']])\n",
    "\n",
    "#Split to train test again\n",
    "X_train = all_dummies[all_dummies.train_test == 1].drop(['train_test'], axis =1)\n",
    "X_test = all_dummies[all_dummies.train_test == 0].drop(['train_test'], axis =1)\n",
    "\n",
    "\n",
    "y_train = all_data[all_data.train_test==1].Survived\n",
    "y_train.shape"
   ]
  },
  {
   "cell_type": "code",
   "execution_count": null,
   "metadata": {
    "execution": {
     "iopub.execute_input": "2021-11-08T08:23:19.201157Z",
     "iopub.status.busy": "2021-11-08T08:23:19.200834Z",
     "iopub.status.idle": "2021-11-08T08:23:19.287131Z",
     "shell.execute_reply": "2021-11-08T08:23:19.28612Z",
     "shell.execute_reply.started": "2021-11-08T08:23:19.201125Z"
    }
   },
   "outputs": [],
   "source": [
    "# Scale data \n",
    "from sklearn.preprocessing import StandardScaler\n",
    "scale = StandardScaler()\n",
    "all_dummies_scaled = all_dummies.copy()\n",
    "all_dummies_scaled[['Age','SibSp','Parch','norm_fare']]= scale.fit_transform(all_dummies_scaled[['Age','SibSp','Parch','norm_fare']])\n",
    "all_dummies_scaled\n",
    "\n",
    "X_train_scaled = all_dummies_scaled[all_dummies_scaled.train_test == 1].drop(['train_test'], axis =1)\n",
    "X_test_scaled = all_dummies_scaled[all_dummies_scaled.train_test == 0].drop(['train_test'], axis =1)\n",
    "\n",
    "y_train = all_data[all_data.train_test==1].Survived\n"
   ]
  },
  {
   "cell_type": "markdown",
   "metadata": {},
   "source": [
    "## Model Building (Baseline Validation Performance)\n",
    "Before going further, I like to see how various different models perform with default parameters. I tried the following models using 5 fold cross validation to get a baseline. With a validation set basline, we can see how much tuning improves each of the models. Just because a model has a high basline on this validation set doesn't mean that it will actually do better on the eventual test set. \n",
    "\n",
    "- Naive Bayes (72.6%)\n",
    "- Logistic Regression (82.1%)\n",
    "- Decision Tree (77.6%)\n",
    "- K Nearest Neighbor (80.5%)\n",
    "- Random Forest (80.6%)\n",
    "- **Support Vector Classifier (83.2%)**\n",
    "- Xtreme Gradient Boosting (81.8%)\n",
    "- Soft Voting Classifier - All Models (82.8%)"
   ]
  },
  {
   "cell_type": "code",
   "execution_count": null,
   "metadata": {
    "execution": {
     "iopub.execute_input": "2021-11-08T08:23:19.289439Z",
     "iopub.status.busy": "2021-11-08T08:23:19.289024Z",
     "iopub.status.idle": "2021-11-08T08:23:19.829278Z",
     "shell.execute_reply": "2021-11-08T08:23:19.82829Z",
     "shell.execute_reply.started": "2021-11-08T08:23:19.289396Z"
    }
   },
   "outputs": [],
   "source": [
    "from sklearn.model_selection import cross_val_score\n",
    "from sklearn.naive_bayes import GaussianNB\n",
    "from sklearn.linear_model import LogisticRegression\n",
    "from sklearn import tree\n",
    "from sklearn.neighbors import KNeighborsClassifier\n",
    "from sklearn.ensemble import RandomForestClassifier\n",
    "from sklearn.svm import SVC"
   ]
  },
  {
   "cell_type": "code",
   "execution_count": null,
   "metadata": {
    "execution": {
     "iopub.execute_input": "2021-11-08T08:23:19.831624Z",
     "iopub.status.busy": "2021-11-08T08:23:19.831262Z",
     "iopub.status.idle": "2021-11-08T08:23:19.88753Z",
     "shell.execute_reply": "2021-11-08T08:23:19.886304Z",
     "shell.execute_reply.started": "2021-11-08T08:23:19.831593Z"
    }
   },
   "outputs": [],
   "source": [
    "#I usually use Naive Bayes as a baseline for my classification tasks \n",
    "gnb = GaussianNB()\n",
    "cv = cross_val_score(gnb,X_train_scaled,y_train,cv=5)\n",
    "print(cv)\n",
    "print(cv.mean())"
   ]
  },
  {
   "cell_type": "code",
   "execution_count": null,
   "metadata": {
    "execution": {
     "iopub.execute_input": "2021-11-08T08:23:19.889193Z",
     "iopub.status.busy": "2021-11-08T08:23:19.888887Z",
     "iopub.status.idle": "2021-11-08T08:23:20.617957Z",
     "shell.execute_reply": "2021-11-08T08:23:20.617008Z",
     "shell.execute_reply.started": "2021-11-08T08:23:19.889144Z"
    }
   },
   "outputs": [],
   "source": [
    "lr = LogisticRegression(max_iter = 2000)\n",
    "cv = cross_val_score(lr,X_train,y_train,cv=5)\n",
    "print(cv)\n",
    "print(cv.mean())"
   ]
  },
  {
   "cell_type": "code",
   "execution_count": null,
   "metadata": {
    "execution": {
     "iopub.execute_input": "2021-11-08T08:23:20.61973Z",
     "iopub.status.busy": "2021-11-08T08:23:20.619427Z",
     "iopub.status.idle": "2021-11-08T08:23:20.78804Z",
     "shell.execute_reply": "2021-11-08T08:23:20.78727Z",
     "shell.execute_reply.started": "2021-11-08T08:23:20.619698Z"
    }
   },
   "outputs": [],
   "source": [
    "lr = LogisticRegression(max_iter = 2000)\n",
    "cv = cross_val_score(lr,X_train_scaled,y_train,cv=5)\n",
    "print(cv)\n",
    "print(cv.mean())"
   ]
  },
  {
   "cell_type": "code",
   "execution_count": null,
   "metadata": {
    "execution": {
     "iopub.execute_input": "2021-11-08T08:23:20.789598Z",
     "iopub.status.busy": "2021-11-08T08:23:20.789113Z",
     "iopub.status.idle": "2021-11-08T08:23:20.848451Z",
     "shell.execute_reply": "2021-11-08T08:23:20.847621Z",
     "shell.execute_reply.started": "2021-11-08T08:23:20.789566Z"
    }
   },
   "outputs": [],
   "source": [
    "dt = tree.DecisionTreeClassifier(random_state = 1)\n",
    "cv = cross_val_score(dt,X_train,y_train,cv=5)\n",
    "print(cv)\n",
    "print(cv.mean())"
   ]
  },
  {
   "cell_type": "code",
   "execution_count": null,
   "metadata": {
    "execution": {
     "iopub.execute_input": "2021-11-08T08:23:20.84992Z",
     "iopub.status.busy": "2021-11-08T08:23:20.849485Z",
     "iopub.status.idle": "2021-11-08T08:23:20.908118Z",
     "shell.execute_reply": "2021-11-08T08:23:20.907331Z",
     "shell.execute_reply.started": "2021-11-08T08:23:20.849888Z"
    }
   },
   "outputs": [],
   "source": [
    "dt = tree.DecisionTreeClassifier(random_state = 1)\n",
    "cv = cross_val_score(dt,X_train_scaled,y_train,cv=5)\n",
    "print(cv)\n",
    "print(cv.mean())"
   ]
  },
  {
   "cell_type": "code",
   "execution_count": null,
   "metadata": {
    "execution": {
     "iopub.execute_input": "2021-11-08T08:23:20.9143Z",
     "iopub.status.busy": "2021-11-08T08:23:20.913786Z",
     "iopub.status.idle": "2021-11-08T08:23:21.029097Z",
     "shell.execute_reply": "2021-11-08T08:23:21.02811Z",
     "shell.execute_reply.started": "2021-11-08T08:23:20.914264Z"
    }
   },
   "outputs": [],
   "source": [
    "knn = KNeighborsClassifier()\n",
    "cv = cross_val_score(knn,X_train,y_train,cv=5)\n",
    "print(cv)\n",
    "print(cv.mean())"
   ]
  },
  {
   "cell_type": "code",
   "execution_count": null,
   "metadata": {
    "execution": {
     "iopub.execute_input": "2021-11-08T08:23:21.033371Z",
     "iopub.status.busy": "2021-11-08T08:23:21.03303Z",
     "iopub.status.idle": "2021-11-08T08:23:21.162748Z",
     "shell.execute_reply": "2021-11-08T08:23:21.161642Z",
     "shell.execute_reply.started": "2021-11-08T08:23:21.033339Z"
    }
   },
   "outputs": [],
   "source": [
    "knn = KNeighborsClassifier()\n",
    "cv = cross_val_score(knn,X_train_scaled,y_train,cv=5)\n",
    "print(cv)\n",
    "print(cv.mean())"
   ]
  },
  {
   "cell_type": "code",
   "execution_count": null,
   "metadata": {
    "execution": {
     "iopub.execute_input": "2021-11-08T08:23:21.164785Z",
     "iopub.status.busy": "2021-11-08T08:23:21.164318Z",
     "iopub.status.idle": "2021-11-08T08:23:22.505066Z",
     "shell.execute_reply": "2021-11-08T08:23:22.503985Z",
     "shell.execute_reply.started": "2021-11-08T08:23:21.164735Z"
    }
   },
   "outputs": [],
   "source": [
    "rf = RandomForestClassifier(random_state = 1)\n",
    "cv = cross_val_score(rf,X_train,y_train,cv=5)\n",
    "print(cv)\n",
    "print(cv.mean())"
   ]
  },
  {
   "cell_type": "code",
   "execution_count": null,
   "metadata": {
    "execution": {
     "iopub.execute_input": "2021-11-08T08:23:22.507105Z",
     "iopub.status.busy": "2021-11-08T08:23:22.50665Z",
     "iopub.status.idle": "2021-11-08T08:23:23.857668Z",
     "shell.execute_reply": "2021-11-08T08:23:23.856433Z",
     "shell.execute_reply.started": "2021-11-08T08:23:22.507054Z"
    }
   },
   "outputs": [],
   "source": [
    "rf = RandomForestClassifier(random_state = 1)\n",
    "cv = cross_val_score(rf,X_train_scaled,y_train,cv=5)\n",
    "print(cv)\n",
    "print(cv.mean())"
   ]
  },
  {
   "cell_type": "code",
   "execution_count": null,
   "metadata": {
    "execution": {
     "iopub.execute_input": "2021-11-08T08:23:23.859847Z",
     "iopub.status.busy": "2021-11-08T08:23:23.85947Z",
     "iopub.status.idle": "2021-11-08T08:23:24.573734Z",
     "shell.execute_reply": "2021-11-08T08:23:24.572594Z",
     "shell.execute_reply.started": "2021-11-08T08:23:23.859814Z"
    }
   },
   "outputs": [],
   "source": [
    "svc = SVC(probability = True)\n",
    "cv = cross_val_score(svc,X_train_scaled,y_train,cv=5)\n",
    "print(cv)\n",
    "print(cv.mean())"
   ]
  },
  {
   "cell_type": "code",
   "execution_count": null,
   "metadata": {
    "execution": {
     "iopub.execute_input": "2021-11-08T08:23:24.575927Z",
     "iopub.status.busy": "2021-11-08T08:23:24.575466Z",
     "iopub.status.idle": "2021-11-08T08:23:25.983584Z",
     "shell.execute_reply": "2021-11-08T08:23:25.982507Z",
     "shell.execute_reply.started": "2021-11-08T08:23:24.57588Z"
    }
   },
   "outputs": [],
   "source": [
    "from xgboost import XGBClassifier\n",
    "xgb = XGBClassifier(random_state =1)\n",
    "cv = cross_val_score(xgb,X_train_scaled,y_train,cv=5)\n",
    "print(cv)\n",
    "print(cv.mean())"
   ]
  },
  {
   "cell_type": "code",
   "execution_count": null,
   "metadata": {
    "execution": {
     "iopub.execute_input": "2021-11-08T08:23:25.986006Z",
     "iopub.status.busy": "2021-11-08T08:23:25.985331Z",
     "iopub.status.idle": "2021-11-08T08:23:26.001905Z",
     "shell.execute_reply": "2021-11-08T08:23:26.000327Z",
     "shell.execute_reply.started": "2021-11-08T08:23:25.985958Z"
    }
   },
   "outputs": [],
   "source": [
    "#Voting classifier takes all of the inputs and averages the results. For a \"hard\" voting classifier each classifier gets 1 vote \"yes\" or \"no\" and the result is just a popular vote. For this, you generally want odd numbers\n",
    "#A \"soft\" classifier averages the confidence of each of the models. If a the average confidence is > 50% that it is a 1 it will be counted as such\n",
    "from sklearn.ensemble import VotingClassifier\n",
    "voting_clf = VotingClassifier(estimators = [('lr',lr),('knn',knn),('rf',rf),('gnb',gnb),('svc',svc),('xgb',xgb)], voting = 'soft') "
   ]
  },
  {
   "cell_type": "code",
   "execution_count": null,
   "metadata": {
    "execution": {
     "iopub.execute_input": "2021-11-08T08:23:26.004253Z",
     "iopub.status.busy": "2021-11-08T08:23:26.003599Z",
     "iopub.status.idle": "2021-11-08T08:23:29.230417Z",
     "shell.execute_reply": "2021-11-08T08:23:29.229318Z",
     "shell.execute_reply.started": "2021-11-08T08:23:26.004201Z"
    }
   },
   "outputs": [],
   "source": [
    "cv = cross_val_score(voting_clf,X_train_scaled,y_train,cv=5)\n",
    "print(cv)\n",
    "print(cv.mean())"
   ]
  },
  {
   "cell_type": "code",
   "execution_count": null,
   "metadata": {
    "execution": {
     "iopub.execute_input": "2021-11-08T08:23:29.232707Z",
     "iopub.status.busy": "2021-11-08T08:23:29.23205Z",
     "iopub.status.idle": "2021-11-08T08:23:30.029753Z",
     "shell.execute_reply": "2021-11-08T08:23:30.028459Z",
     "shell.execute_reply.started": "2021-11-08T08:23:29.232657Z"
    }
   },
   "outputs": [],
   "source": [
    "voting_clf.fit(X_train_scaled,y_train)\n",
    "y_hat_base_vc = voting_clf.predict(X_test_scaled).astype(int)\n",
    "basic_submission = {'PassengerId': test.PassengerId, 'Survived': y_hat_base_vc}\n",
    "base_submission = pd.DataFrame(data=basic_submission)\n",
    "base_submission.to_csv('base_submission.csv', index=False)"
   ]
  },
  {
   "cell_type": "markdown",
   "metadata": {},
   "source": [
    "## Model Tuned Performance \n",
    "After getting the baselines, let's see if we can improve on the indivdual model results!I mainly used grid search to tune the models. I also used Randomized Search for the Random Forest and XG boosted model to simplify testing time. \n",
    "\n",
    "|Model|Baseline|Tuned Performance|\n",
    "|-----|--------|-----------------|\n",
    "|Naive Bayes| 72.6%| NA|\n",
    "|Logistic Regression| 82.1%| 82.6%|\n",
    "|Decision Tree| 77.6%| NA|\n",
    "|K Nearest Neighbor| 80.5%|83.0%|\n",
    "|Random Forest| 80.6%| 83.6|\n",
    "|Support Vector Classifier| 83.2%| 83.2%|\n",
    "|Xtreme Gradient Boosting| 81.8%| 85.3%|\n"
   ]
  },
  {
   "cell_type": "code",
   "execution_count": null,
   "metadata": {
    "execution": {
     "iopub.execute_input": "2021-11-08T08:23:30.032332Z",
     "iopub.status.busy": "2021-11-08T08:23:30.031533Z",
     "iopub.status.idle": "2021-11-08T08:23:30.038834Z",
     "shell.execute_reply": "2021-11-08T08:23:30.037576Z",
     "shell.execute_reply.started": "2021-11-08T08:23:30.032282Z"
    }
   },
   "outputs": [],
   "source": [
    "from sklearn.model_selection import GridSearchCV \n",
    "from sklearn.model_selection import RandomizedSearchCV "
   ]
  },
  {
   "cell_type": "code",
   "execution_count": null,
   "metadata": {
    "execution": {
     "iopub.execute_input": "2021-11-08T08:23:30.041734Z",
     "iopub.status.busy": "2021-11-08T08:23:30.040874Z",
     "iopub.status.idle": "2021-11-08T08:23:30.051249Z",
     "shell.execute_reply": "2021-11-08T08:23:30.050066Z",
     "shell.execute_reply.started": "2021-11-08T08:23:30.041683Z"
    }
   },
   "outputs": [],
   "source": [
    "#simple performance reporting function\n",
    "def clf_performance(classifier, model_name):\n",
    "    print(model_name)\n",
    "    print('Best Score: ' + str(classifier.best_score_))\n",
    "    print('Best Parameters: ' + str(classifier.best_params_))"
   ]
  },
  {
   "cell_type": "code",
   "execution_count": null,
   "metadata": {
    "execution": {
     "iopub.execute_input": "2021-11-08T08:23:30.05626Z",
     "iopub.status.busy": "2021-11-08T08:23:30.055426Z",
     "iopub.status.idle": "2021-11-08T08:23:33.821584Z",
     "shell.execute_reply": "2021-11-08T08:23:33.820129Z",
     "shell.execute_reply.started": "2021-11-08T08:23:30.056097Z"
    }
   },
   "outputs": [],
   "source": [
    "lr = LogisticRegression()\n",
    "param_grid = {'max_iter' : [2000],\n",
    "              'penalty' : ['l1', 'l2'],\n",
    "              'C' : np.logspace(-4, 4, 20),\n",
    "              'solver' : ['liblinear']}\n",
    "\n",
    "clf_lr = GridSearchCV(lr, param_grid = param_grid, cv = 5, verbose = True, n_jobs = -1)\n",
    "best_clf_lr = clf_lr.fit(X_train_scaled,y_train)\n",
    "clf_performance(best_clf_lr,'Logistic Regression')"
   ]
  },
  {
   "cell_type": "code",
   "execution_count": null,
   "metadata": {
    "execution": {
     "iopub.execute_input": "2021-11-08T08:23:33.823798Z",
     "iopub.status.busy": "2021-11-08T08:23:33.823238Z",
     "iopub.status.idle": "2021-11-08T08:23:36.241832Z",
     "shell.execute_reply": "2021-11-08T08:23:36.240589Z",
     "shell.execute_reply.started": "2021-11-08T08:23:33.82376Z"
    }
   },
   "outputs": [],
   "source": [
    "knn = KNeighborsClassifier()\n",
    "param_grid = {'n_neighbors' : [3,5,7,9],\n",
    "              'weights' : ['uniform', 'distance'],\n",
    "              'algorithm' : ['auto', 'ball_tree','kd_tree'],\n",
    "              'p' : [1,2]}\n",
    "clf_knn = GridSearchCV(knn, param_grid = param_grid, cv = 5, verbose = True, n_jobs = -1)\n",
    "best_clf_knn = clf_knn.fit(X_train_scaled,y_train)\n",
    "clf_performance(best_clf_knn,'KNN')"
   ]
  },
  {
   "cell_type": "code",
   "execution_count": null,
   "metadata": {
    "execution": {
     "iopub.execute_input": "2021-11-08T08:23:36.244496Z",
     "iopub.status.busy": "2021-11-08T08:23:36.24417Z",
     "iopub.status.idle": "2021-11-08T08:26:46.927217Z",
     "shell.execute_reply": "2021-11-08T08:26:46.926013Z",
     "shell.execute_reply.started": "2021-11-08T08:23:36.244465Z"
    }
   },
   "outputs": [],
   "source": [
    "svc = SVC(probability = True)\n",
    "param_grid = tuned_parameters = [{'kernel': ['rbf'], 'gamma': [.1,.5,1,2,5,10],\n",
    "                                  'C': [.1, 1, 10, 100, 1000]},\n",
    "                                 {'kernel': ['linear'], 'C': [.1, 1, 10, 100, 1000]},\n",
    "                                 {'kernel': ['poly'], 'degree' : [2,3,4,5], 'C': [.1, 1, 10, 100, 1000]}]\n",
    "clf_svc = GridSearchCV(svc, param_grid = param_grid, cv = 5, verbose = True, n_jobs = -1)\n",
    "best_clf_svc = clf_svc.fit(X_train_scaled,y_train)\n",
    "clf_performance(best_clf_svc,'SVC')"
   ]
  },
  {
   "cell_type": "code",
   "execution_count": null,
   "metadata": {
    "execution": {
     "iopub.execute_input": "2021-11-08T08:26:46.929576Z",
     "iopub.status.busy": "2021-11-08T08:26:46.929084Z",
     "iopub.status.idle": "2021-11-08T08:26:46.938473Z",
     "shell.execute_reply": "2021-11-08T08:26:46.93703Z",
     "shell.execute_reply.started": "2021-11-08T08:26:46.929528Z"
    }
   },
   "outputs": [],
   "source": [
    "#Because the total feature space is so large, I used a randomized search to narrow down the paramters for the model. I took the best model from this and did a more granular search \n",
    "\"\"\"\n",
    "rf = RandomForestClassifier(random_state = 1)\n",
    "param_grid =  {'n_estimators': [100,500,1000], \n",
    "                                  'bootstrap': [True,False],\n",
    "                                  'max_depth': [3,5,10,20,50,75,100,None],\n",
    "                                  'max_features': ['auto','sqrt'],\n",
    "                                  'min_samples_leaf': [1,2,4,10],\n",
    "                                  'min_samples_split': [2,5,10]}\n",
    "                                  \n",
    "clf_rf_rnd = RandomizedSearchCV(rf, param_distributions = param_grid, n_iter = 100, cv = 5, verbose = True, n_jobs = -1)\n",
    "best_clf_rf_rnd = clf_rf_rnd.fit(X_train_scaled,y_train)\n",
    "clf_performance(best_clf_rf_rnd,'Random Forest')\"\"\""
   ]
  },
  {
   "cell_type": "code",
   "execution_count": null,
   "metadata": {
    "execution": {
     "iopub.execute_input": "2021-11-08T08:26:46.941001Z",
     "iopub.status.busy": "2021-11-08T08:26:46.940541Z",
     "iopub.status.idle": "2021-11-08T08:38:30.657903Z",
     "shell.execute_reply": "2021-11-08T08:38:30.656509Z",
     "shell.execute_reply.started": "2021-11-08T08:26:46.940952Z"
    }
   },
   "outputs": [],
   "source": [
    "rf = RandomForestClassifier(random_state = 1)\n",
    "param_grid =  {'n_estimators': [400,450,500,550],\n",
    "               'criterion':['gini','entropy'],\n",
    "                                  'bootstrap': [True],\n",
    "                                  'max_depth': [15, 20, 25],\n",
    "                                  'max_features': ['auto','sqrt', 10],\n",
    "                                  'min_samples_leaf': [2,3],\n",
    "                                  'min_samples_split': [2,3]}\n",
    "                                  \n",
    "clf_rf = GridSearchCV(rf, param_grid = param_grid, cv = 5, verbose = True, n_jobs = -1)\n",
    "best_clf_rf = clf_rf.fit(X_train_scaled,y_train)\n",
    "clf_performance(best_clf_rf,'Random Forest')"
   ]
  },
  {
   "cell_type": "code",
   "execution_count": null,
   "metadata": {
    "execution": {
     "iopub.execute_input": "2021-11-08T08:38:30.659285Z",
     "iopub.status.busy": "2021-11-08T08:38:30.658942Z",
     "iopub.status.idle": "2021-11-08T08:38:32.391511Z",
     "shell.execute_reply": "2021-11-08T08:38:32.390287Z",
     "shell.execute_reply.started": "2021-11-08T08:38:30.659241Z"
    }
   },
   "outputs": [],
   "source": [
    "best_rf = best_clf_rf.best_estimator_.fit(X_train_scaled,y_train)\n",
    "feat_importances = pd.Series(best_rf.feature_importances_, index=X_train_scaled.columns)\n",
    "feat_importances.nlargest(20).plot(kind='barh')"
   ]
  },
  {
   "cell_type": "code",
   "execution_count": null,
   "metadata": {
    "execution": {
     "iopub.execute_input": "2021-11-08T08:38:32.393267Z",
     "iopub.status.busy": "2021-11-08T08:38:32.392864Z",
     "iopub.status.idle": "2021-11-08T08:38:32.401464Z",
     "shell.execute_reply": "2021-11-08T08:38:32.400282Z",
     "shell.execute_reply.started": "2021-11-08T08:38:32.393233Z"
    }
   },
   "outputs": [],
   "source": [
    "\"\"\"xgb = XGBClassifier(random_state = 1)\n",
    "\n",
    "param_grid = {\n",
    "    'n_estimators': [20, 50, 100, 250, 500,1000],\n",
    "    'colsample_bytree': [0.2, 0.5, 0.7, 0.8, 1],\n",
    "    'max_depth': [2, 5, 10, 15, 20, 25, None],\n",
    "    'reg_alpha': [0, 0.5, 1],\n",
    "    'reg_lambda': [1, 1.5, 2],\n",
    "    'subsample': [0.5,0.6,0.7, 0.8, 0.9],\n",
    "    'learning_rate':[.01,0.1,0.2,0.3,0.5, 0.7, 0.9],\n",
    "    'gamma':[0,.01,.1,1,10,100],\n",
    "    'min_child_weight':[0,.01,0.1,1,10,100],\n",
    "    'sampling_method': ['uniform', 'gradient_based']\n",
    "}\n",
    "\n",
    "#clf_xgb = GridSearchCV(xgb, param_grid = param_grid, cv = 5, verbose = True, n_jobs = -1)\n",
    "#best_clf_xgb = clf_xgb.fit(X_train_scaled,y_train)\n",
    "#clf_performance(best_clf_xgb,'XGB')\n",
    "clf_xgb_rnd = RandomizedSearchCV(xgb, param_distributions = param_grid, n_iter = 1000, cv = 5, verbose = True, n_jobs = -1)\n",
    "best_clf_xgb_rnd = clf_xgb_rnd.fit(X_train_scaled,y_train)\n",
    "clf_performance(best_clf_xgb_rnd,'XGB')\"\"\""
   ]
  },
  {
   "cell_type": "code",
   "execution_count": null,
   "metadata": {
    "execution": {
     "iopub.execute_input": "2021-11-08T08:38:32.403439Z",
     "iopub.status.busy": "2021-11-08T08:38:32.403062Z",
     "iopub.status.idle": "2021-11-08T08:44:12.152223Z",
     "shell.execute_reply": "2021-11-08T08:44:12.151093Z",
     "shell.execute_reply.started": "2021-11-08T08:38:32.403408Z"
    }
   },
   "outputs": [],
   "source": [
    "xgb = XGBClassifier(random_state = 1)\n",
    "\n",
    "param_grid = {\n",
    "    'n_estimators': [450,500,550],\n",
    "    'colsample_bytree': [0.75,0.8,0.85],\n",
    "    'max_depth': [None],\n",
    "    'reg_alpha': [1],\n",
    "    'reg_lambda': [2, 5, 10],\n",
    "    'subsample': [0.55, 0.6, .65],\n",
    "    'learning_rate':[0.5],\n",
    "    'gamma':[.5,1,2],\n",
    "    'min_child_weight':[0.01],\n",
    "    'sampling_method': ['uniform']\n",
    "}\n",
    "\n",
    "clf_xgb = GridSearchCV(xgb, param_grid = param_grid, cv = 5, verbose = True, n_jobs = -1)\n",
    "best_clf_xgb = clf_xgb.fit(X_train_scaled,y_train)\n",
    "clf_performance(best_clf_xgb,'XGB')\n"
   ]
  },
  {
   "cell_type": "code",
   "execution_count": null,
   "metadata": {
    "execution": {
     "iopub.execute_input": "2021-11-08T08:44:12.154809Z",
     "iopub.status.busy": "2021-11-08T08:44:12.154015Z",
     "iopub.status.idle": "2021-11-08T08:44:12.175211Z",
     "shell.execute_reply": "2021-11-08T08:44:12.173739Z",
     "shell.execute_reply.started": "2021-11-08T08:44:12.154756Z"
    }
   },
   "outputs": [],
   "source": [
    "y_hat_xgb = best_clf_xgb.best_estimator_.predict(X_test_scaled).astype(int)\n",
    "xgb_submission = {'PassengerId': test.PassengerId, 'Survived': y_hat_xgb}\n",
    "submission_xgb = pd.DataFrame(data=xgb_submission)\n",
    "submission_xgb.to_csv('xgb_submission3.csv', index=False)"
   ]
  },
  {
   "cell_type": "markdown",
   "metadata": {},
   "source": [
    "## Model Additional Ensemble Approaches \n",
    "1) Experimented with a hard voting classifier of three estimators (KNN, SVM, RF) (81.6%)\n",
    "\n",
    "2) **Experimented with a soft voting classifier of three estimators (KNN, SVM, RF) (82.3%) (Best Performance)**\n",
    "\n",
    "3) Experimented with soft voting on all estimators performing better than 80% except xgb (KNN, RF, LR, SVC) (82.9%)\n",
    "\n",
    "4) Experimented with soft voting on all estimators including XGB (KNN, SVM, RF, LR, XGB) (83.5%)"
   ]
  },
  {
   "cell_type": "code",
   "execution_count": null,
   "metadata": {
    "execution": {
     "iopub.execute_input": "2021-11-08T08:44:12.177673Z",
     "iopub.status.busy": "2021-11-08T08:44:12.176873Z",
     "iopub.status.idle": "2021-11-08T08:45:21.0255Z",
     "shell.execute_reply": "2021-11-08T08:45:21.024287Z",
     "shell.execute_reply.started": "2021-11-08T08:44:12.177621Z"
    }
   },
   "outputs": [],
   "source": [
    "best_lr = best_clf_lr.best_estimator_\n",
    "best_knn = best_clf_knn.best_estimator_\n",
    "best_svc = best_clf_svc.best_estimator_\n",
    "best_rf = best_clf_rf.best_estimator_\n",
    "best_xgb = best_clf_xgb.best_estimator_\n",
    "\n",
    "voting_clf_hard = VotingClassifier(estimators = [('knn',best_knn),('rf',best_rf),('svc',best_svc)], voting = 'hard') \n",
    "voting_clf_soft = VotingClassifier(estimators = [('knn',best_knn),('rf',best_rf),('svc',best_svc)], voting = 'soft') \n",
    "voting_clf_all = VotingClassifier(estimators = [('knn',best_knn),('rf',best_rf),('svc',best_svc), ('lr', best_lr)], voting = 'soft') \n",
    "voting_clf_xgb = VotingClassifier(estimators = [('knn',best_knn),('rf',best_rf),('svc',best_svc), ('xgb', best_xgb),('lr', best_lr)], voting = 'soft')\n",
    "\n",
    "print('voting_clf_hard :',cross_val_score(voting_clf_hard,X_train,y_train,cv=5))\n",
    "print('voting_clf_hard mean :',cross_val_score(voting_clf_hard,X_train,y_train,cv=5).mean())\n",
    "\n",
    "print('voting_clf_soft :',cross_val_score(voting_clf_soft,X_train,y_train,cv=5))\n",
    "print('voting_clf_soft mean :',cross_val_score(voting_clf_soft,X_train,y_train,cv=5).mean())\n",
    "\n",
    "print('voting_clf_all :',cross_val_score(voting_clf_all,X_train,y_train,cv=5))\n",
    "print('voting_clf_all mean :',cross_val_score(voting_clf_all,X_train,y_train,cv=5).mean())\n",
    "\n",
    "print('voting_clf_xgb :',cross_val_score(voting_clf_xgb,X_train,y_train,cv=5))\n",
    "print('voting_clf_xgb mean :',cross_val_score(voting_clf_xgb,X_train,y_train,cv=5).mean())\n"
   ]
  },
  {
   "cell_type": "code",
   "execution_count": null,
   "metadata": {
    "execution": {
     "iopub.execute_input": "2021-11-08T08:45:21.027954Z",
     "iopub.status.busy": "2021-11-08T08:45:21.027244Z",
     "iopub.status.idle": "2021-11-08T08:45:44.618351Z",
     "shell.execute_reply": "2021-11-08T08:45:44.617199Z",
     "shell.execute_reply.started": "2021-11-08T08:45:21.027903Z"
    }
   },
   "outputs": [],
   "source": [
    "#in a soft voting classifier you can weight some models more than others. I used a grid search to explore different weightings\n",
    "#no new results here\n",
    "params = {'weights' : [[1,1,1],[1,2,1],[1,1,2],[2,1,1],[2,2,1],[1,2,2],[2,1,2]]}\n",
    "\n",
    "vote_weight = GridSearchCV(voting_clf_soft, param_grid = params, cv = 5, verbose = True, n_jobs = -1)\n",
    "best_clf_weight = vote_weight.fit(X_train_scaled,y_train)\n",
    "clf_performance(best_clf_weight,'VC Weights')\n",
    "voting_clf_sub = best_clf_weight.best_estimator_.predict(X_test_scaled)\n"
   ]
  },
  {
   "cell_type": "code",
   "execution_count": null,
   "metadata": {
    "execution": {
     "iopub.execute_input": "2021-11-08T08:45:44.61991Z",
     "iopub.status.busy": "2021-11-08T08:45:44.619613Z",
     "iopub.status.idle": "2021-11-08T08:45:53.403637Z",
     "shell.execute_reply": "2021-11-08T08:45:53.402538Z",
     "shell.execute_reply.started": "2021-11-08T08:45:44.619879Z"
    }
   },
   "outputs": [],
   "source": [
    "#Make Predictions \n",
    "voting_clf_hard.fit(X_train_scaled, y_train)\n",
    "voting_clf_soft.fit(X_train_scaled, y_train)\n",
    "voting_clf_all.fit(X_train_scaled, y_train)\n",
    "voting_clf_xgb.fit(X_train_scaled, y_train)\n",
    "\n",
    "best_rf.fit(X_train_scaled, y_train)\n",
    "y_hat_vc_hard = voting_clf_hard.predict(X_test_scaled).astype(int)\n",
    "y_hat_rf = best_rf.predict(X_test_scaled).astype(int)\n",
    "y_hat_vc_soft =  voting_clf_soft.predict(X_test_scaled).astype(int)\n",
    "y_hat_vc_all = voting_clf_all.predict(X_test_scaled).astype(int)\n",
    "y_hat_vc_xgb = voting_clf_xgb.predict(X_test_scaled).astype(int)"
   ]
  },
  {
   "cell_type": "code",
   "execution_count": null,
   "metadata": {
    "execution": {
     "iopub.execute_input": "2021-11-08T08:45:53.409609Z",
     "iopub.status.busy": "2021-11-08T08:45:53.409117Z",
     "iopub.status.idle": "2021-11-08T08:45:53.429272Z",
     "shell.execute_reply": "2021-11-08T08:45:53.428142Z",
     "shell.execute_reply.started": "2021-11-08T08:45:53.409563Z"
    }
   },
   "outputs": [],
   "source": [
    "#convert output to dataframe \n",
    "final_data = {'PassengerId': test.PassengerId, 'Survived': y_hat_rf}\n",
    "submission = pd.DataFrame(data=final_data)\n",
    "\n",
    "final_data_2 = {'PassengerId': test.PassengerId, 'Survived': y_hat_vc_hard}\n",
    "submission_2 = pd.DataFrame(data=final_data_2)\n",
    "\n",
    "final_data_3 = {'PassengerId': test.PassengerId, 'Survived': y_hat_vc_soft}\n",
    "submission_3 = pd.DataFrame(data=final_data_3)\n",
    "\n",
    "final_data_4 = {'PassengerId': test.PassengerId, 'Survived': y_hat_vc_all}\n",
    "submission_4 = pd.DataFrame(data=final_data_4)\n",
    "\n",
    "final_data_5 = {'PassengerId': test.PassengerId, 'Survived': y_hat_vc_xgb}\n",
    "submission_5 = pd.DataFrame(data=final_data_5)\n",
    "\n",
    "final_data_comp = {'PassengerId': test.PassengerId, 'Survived_vc_hard': y_hat_vc_hard, 'Survived_rf': y_hat_rf, 'Survived_vc_soft' : y_hat_vc_soft, 'Survived_vc_all' : y_hat_vc_all,  'Survived_vc_xgb' : y_hat_vc_xgb}\n",
    "comparison = pd.DataFrame(data=final_data_comp)"
   ]
  },
  {
   "cell_type": "code",
   "execution_count": null,
   "metadata": {
    "execution": {
     "iopub.execute_input": "2021-11-08T08:45:53.437093Z",
     "iopub.status.busy": "2021-11-08T08:45:53.434352Z",
     "iopub.status.idle": "2021-11-08T08:45:53.56672Z",
     "shell.execute_reply": "2021-11-08T08:45:53.565604Z",
     "shell.execute_reply.started": "2021-11-08T08:45:53.437042Z"
    }
   },
   "outputs": [],
   "source": [
    "#track differences between outputs \n",
    "comparison['difference_rf_vc_hard'] = comparison.apply(lambda x: 1 if x.Survived_vc_hard != x.Survived_rf else 0, axis =1)\n",
    "comparison['difference_soft_hard'] = comparison.apply(lambda x: 1 if x.Survived_vc_hard != x.Survived_vc_soft else 0, axis =1)\n",
    "comparison['difference_hard_all'] = comparison.apply(lambda x: 1 if x.Survived_vc_all != x.Survived_vc_hard else 0, axis =1)\n"
   ]
  },
  {
   "cell_type": "code",
   "execution_count": null,
   "metadata": {
    "execution": {
     "iopub.execute_input": "2021-11-08T08:45:53.569215Z",
     "iopub.status.busy": "2021-11-08T08:45:53.568523Z",
     "iopub.status.idle": "2021-11-08T08:45:53.582089Z",
     "shell.execute_reply": "2021-11-08T08:45:53.580695Z",
     "shell.execute_reply.started": "2021-11-08T08:45:53.569145Z"
    }
   },
   "outputs": [],
   "source": [
    "comparison.difference_hard_all.value_counts()"
   ]
  },
  {
   "cell_type": "code",
   "execution_count": null,
   "metadata": {
    "execution": {
     "iopub.execute_input": "2021-11-08T08:45:53.585257Z",
     "iopub.status.busy": "2021-11-08T08:45:53.584106Z",
     "iopub.status.idle": "2021-11-08T08:45:53.602332Z",
     "shell.execute_reply": "2021-11-08T08:45:53.601297Z",
     "shell.execute_reply.started": "2021-11-08T08:45:53.585204Z"
    }
   },
   "outputs": [],
   "source": [
    "#prepare submission files \n",
    "submission.to_csv('submission_rf.csv', index =False)\n",
    "submission_2.to_csv('submission_vc_hard.csv',index=False)\n",
    "submission_3.to_csv('submission_vc_soft.csv', index=False)\n",
    "submission_4.to_csv('submission_vc_all.csv', index=False)\n",
    "submission_5.to_csv('submission_vc_xgb2.csv', index=False)"
   ]
  }
 ],
 "metadata": {
  "hide_input": false,
  "kernelspec": {
   "display_name": "Python 3",
   "language": "python",
   "name": "python3"
  },
  "language_info": {
   "codemirror_mode": {
    "name": "ipython",
    "version": 3
   },
   "file_extension": ".py",
   "mimetype": "text/x-python",
   "name": "python",
   "nbconvert_exporter": "python",
   "pygments_lexer": "ipython3",
   "version": "3.8.8"
  }
 },
 "nbformat": 4,
 "nbformat_minor": 4
}
